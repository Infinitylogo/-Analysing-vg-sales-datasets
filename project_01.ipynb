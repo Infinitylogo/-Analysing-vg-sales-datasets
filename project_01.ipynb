{
 "cells": [
  {
   "cell_type": "code",
   "execution_count": 5,
   "metadata": {},
   "outputs": [],
   "source": [
    "## importing all the libraries\n",
    "import pandas as pd\n",
    "import numpy as np\n",
    "import matplotlib.pyplot as plt\n",
    "import seaborn as sns\n",
    "import calendar\n",
    "from datetime import datetime\n",
    "from pandas import Series\n",
    "from math import ceil"
   ]
  },
  {
   "cell_type": "code",
   "execution_count": 6,
   "metadata": {},
   "outputs": [],
   "source": [
    "##Getting inputs from CSV file\n",
    "df = pd.read_csv('/home/rituraj/Downloads/Project_001/vgsales.csv',keep_default_na=False, sep=',')"
   ]
  },
  {
   "cell_type": "code",
   "execution_count": 2,
   "metadata": {},
   "outputs": [],
   "source": []
  },
  {
   "cell_type": "markdown",
   "metadata": {},
   "source": [
    "DATA EXPLORATION AND ANALYSIS"
   ]
  },
  {
   "cell_type": "code",
   "execution_count": 7,
   "metadata": {},
   "outputs": [
    {
     "data": {
      "text/html": [
       "<div>\n",
       "<style scoped>\n",
       "    .dataframe tbody tr th:only-of-type {\n",
       "        vertical-align: middle;\n",
       "    }\n",
       "\n",
       "    .dataframe tbody tr th {\n",
       "        vertical-align: top;\n",
       "    }\n",
       "\n",
       "    .dataframe thead th {\n",
       "        text-align: right;\n",
       "    }\n",
       "</style>\n",
       "<table border=\"1\" class=\"dataframe\">\n",
       "  <thead>\n",
       "    <tr style=\"text-align: right;\">\n",
       "      <th></th>\n",
       "      <th>Rank</th>\n",
       "      <th>Name</th>\n",
       "      <th>Platform</th>\n",
       "      <th>Year</th>\n",
       "      <th>Genre</th>\n",
       "      <th>Publisher</th>\n",
       "      <th>NA_Sales</th>\n",
       "      <th>EU_Sales</th>\n",
       "      <th>JP_Sales</th>\n",
       "      <th>Other_Sales</th>\n",
       "      <th>Global_Sales</th>\n",
       "    </tr>\n",
       "  </thead>\n",
       "  <tbody>\n",
       "    <tr>\n",
       "      <th>0</th>\n",
       "      <td>1</td>\n",
       "      <td>Wii Sports</td>\n",
       "      <td>Wii</td>\n",
       "      <td>2006</td>\n",
       "      <td>Sports</td>\n",
       "      <td>Nintendo</td>\n",
       "      <td>41.49</td>\n",
       "      <td>29.02</td>\n",
       "      <td>3.77</td>\n",
       "      <td>8.46</td>\n",
       "      <td>82.74</td>\n",
       "    </tr>\n",
       "    <tr>\n",
       "      <th>1</th>\n",
       "      <td>2</td>\n",
       "      <td>Super Mario Bros.</td>\n",
       "      <td>NES</td>\n",
       "      <td>1985</td>\n",
       "      <td>Platform</td>\n",
       "      <td>Nintendo</td>\n",
       "      <td>29.08</td>\n",
       "      <td>3.58</td>\n",
       "      <td>6.81</td>\n",
       "      <td>0.77</td>\n",
       "      <td>40.24</td>\n",
       "    </tr>\n",
       "    <tr>\n",
       "      <th>2</th>\n",
       "      <td>3</td>\n",
       "      <td>Mario Kart Wii</td>\n",
       "      <td>Wii</td>\n",
       "      <td>2008</td>\n",
       "      <td>Racing</td>\n",
       "      <td>Nintendo</td>\n",
       "      <td>15.85</td>\n",
       "      <td>12.88</td>\n",
       "      <td>3.79</td>\n",
       "      <td>3.31</td>\n",
       "      <td>35.82</td>\n",
       "    </tr>\n",
       "    <tr>\n",
       "      <th>3</th>\n",
       "      <td>4</td>\n",
       "      <td>Wii Sports Resort</td>\n",
       "      <td>Wii</td>\n",
       "      <td>2009</td>\n",
       "      <td>Sports</td>\n",
       "      <td>Nintendo</td>\n",
       "      <td>15.75</td>\n",
       "      <td>11.01</td>\n",
       "      <td>3.28</td>\n",
       "      <td>2.96</td>\n",
       "      <td>33.00</td>\n",
       "    </tr>\n",
       "    <tr>\n",
       "      <th>4</th>\n",
       "      <td>5</td>\n",
       "      <td>Pokemon Red/Pokemon Blue</td>\n",
       "      <td>GB</td>\n",
       "      <td>1996</td>\n",
       "      <td>Role-Playing</td>\n",
       "      <td>Nintendo</td>\n",
       "      <td>11.27</td>\n",
       "      <td>8.89</td>\n",
       "      <td>10.22</td>\n",
       "      <td>1.00</td>\n",
       "      <td>31.37</td>\n",
       "    </tr>\n",
       "  </tbody>\n",
       "</table>\n",
       "</div>"
      ],
      "text/plain": [
       "   Rank                      Name Platform  Year         Genre Publisher  \\\n",
       "0     1                Wii Sports      Wii  2006        Sports  Nintendo   \n",
       "1     2         Super Mario Bros.      NES  1985      Platform  Nintendo   \n",
       "2     3            Mario Kart Wii      Wii  2008        Racing  Nintendo   \n",
       "3     4         Wii Sports Resort      Wii  2009        Sports  Nintendo   \n",
       "4     5  Pokemon Red/Pokemon Blue       GB  1996  Role-Playing  Nintendo   \n",
       "\n",
       "   NA_Sales  EU_Sales  JP_Sales  Other_Sales  Global_Sales  \n",
       "0     41.49     29.02      3.77         8.46         82.74  \n",
       "1     29.08      3.58      6.81         0.77         40.24  \n",
       "2     15.85     12.88      3.79         3.31         35.82  \n",
       "3     15.75     11.01      3.28         2.96         33.00  \n",
       "4     11.27      8.89     10.22         1.00         31.37  "
      ]
     },
     "execution_count": 7,
     "metadata": {},
     "output_type": "execute_result"
    }
   ],
   "source": [
    "dfa = df\n",
    "dfa = dfa.copy()\n",
    "df[:5]"
   ]
  },
  {
   "cell_type": "code",
   "execution_count": 8,
   "metadata": {},
   "outputs": [
    {
     "name": "stdout",
     "output_type": "stream",
     "text": [
      "<class 'pandas.core.frame.DataFrame'>\n",
      "RangeIndex: 16598 entries, 0 to 16597\n",
      "Data columns (total 11 columns):\n",
      " #   Column        Non-Null Count  Dtype  \n",
      "---  ------        --------------  -----  \n",
      " 0   Rank          16598 non-null  int64  \n",
      " 1   Name          16598 non-null  object \n",
      " 2   Platform      16598 non-null  object \n",
      " 3   Year          16598 non-null  object \n",
      " 4   Genre         16598 non-null  object \n",
      " 5   Publisher     16598 non-null  object \n",
      " 6   NA_Sales      16598 non-null  float64\n",
      " 7   EU_Sales      16598 non-null  float64\n",
      " 8   JP_Sales      16598 non-null  float64\n",
      " 9   Other_Sales   16598 non-null  float64\n",
      " 10  Global_Sales  16598 non-null  float64\n",
      "dtypes: float64(5), int64(1), object(5)\n",
      "memory usage: 1.4+ MB\n"
     ]
    }
   ],
   "source": [
    "df.info()"
   ]
  },
  {
   "cell_type": "code",
   "execution_count": 9,
   "metadata": {},
   "outputs": [
    {
     "data": {
      "text/plain": [
       "Action          3316\n",
       "Sports          2346\n",
       "Misc            1739\n",
       "Role-Playing    1488\n",
       "Shooter         1310\n",
       "Adventure       1286\n",
       "Racing          1249\n",
       "Platform         886\n",
       "Simulation       867\n",
       "Fighting         848\n",
       "Strategy         681\n",
       "Puzzle           582\n",
       "Name: Genre, dtype: int64"
      ]
     },
     "execution_count": 9,
     "metadata": {},
     "output_type": "execute_result"
    }
   ],
   "source": [
    "##Integer encoding\n",
    "##Integer encoding ,Let's take one feature with dtype object and transform into pandas nominal categorical variable.\n",
    "df['Genre'].value_counts()"
   ]
  },
  {
   "cell_type": "code",
   "execution_count": 10,
   "metadata": {},
   "outputs": [],
   "source": [
    "df['Genre_cat'] = df['Genre'].astype('category')"
   ]
  },
  {
   "cell_type": "code",
   "execution_count": 11,
   "metadata": {},
   "outputs": [
    {
     "name": "stdout",
     "output_type": "stream",
     "text": [
      "<class 'pandas.core.frame.DataFrame'>\n",
      "RangeIndex: 16598 entries, 0 to 16597\n",
      "Data columns (total 12 columns):\n",
      " #   Column        Non-Null Count  Dtype   \n",
      "---  ------        --------------  -----   \n",
      " 0   Rank          16598 non-null  int64   \n",
      " 1   Name          16598 non-null  object  \n",
      " 2   Platform      16598 non-null  object  \n",
      " 3   Year          16598 non-null  object  \n",
      " 4   Genre         16598 non-null  object  \n",
      " 5   Publisher     16598 non-null  object  \n",
      " 6   NA_Sales      16598 non-null  float64 \n",
      " 7   EU_Sales      16598 non-null  float64 \n",
      " 8   JP_Sales      16598 non-null  float64 \n",
      " 9   Other_Sales   16598 non-null  float64 \n",
      " 10  Global_Sales  16598 non-null  float64 \n",
      " 11  Genre_cat     16598 non-null  category\n",
      "dtypes: category(1), float64(5), int64(1), object(5)\n",
      "memory usage: 1.4+ MB\n"
     ]
    }
   ],
   "source": [
    "df.info()"
   ]
  },
  {
   "cell_type": "code",
   "execution_count": 12,
   "metadata": {},
   "outputs": [
    {
     "data": {
      "text/html": [
       "<div>\n",
       "<style scoped>\n",
       "    .dataframe tbody tr th:only-of-type {\n",
       "        vertical-align: middle;\n",
       "    }\n",
       "\n",
       "    .dataframe tbody tr th {\n",
       "        vertical-align: top;\n",
       "    }\n",
       "\n",
       "    .dataframe thead th {\n",
       "        text-align: right;\n",
       "    }\n",
       "</style>\n",
       "<table border=\"1\" class=\"dataframe\">\n",
       "  <thead>\n",
       "    <tr style=\"text-align: right;\">\n",
       "      <th></th>\n",
       "      <th>Rank</th>\n",
       "      <th>Name</th>\n",
       "      <th>Platform</th>\n",
       "      <th>Year</th>\n",
       "      <th>Genre</th>\n",
       "      <th>Publisher</th>\n",
       "      <th>NA_Sales</th>\n",
       "      <th>EU_Sales</th>\n",
       "      <th>JP_Sales</th>\n",
       "      <th>Other_Sales</th>\n",
       "      <th>Global_Sales</th>\n",
       "      <th>Genre_cat</th>\n",
       "    </tr>\n",
       "  </thead>\n",
       "  <tbody>\n",
       "    <tr>\n",
       "      <th>0</th>\n",
       "      <td>1</td>\n",
       "      <td>Wii Sports</td>\n",
       "      <td>Wii</td>\n",
       "      <td>2006</td>\n",
       "      <td>Sports</td>\n",
       "      <td>Nintendo</td>\n",
       "      <td>41.49</td>\n",
       "      <td>29.02</td>\n",
       "      <td>3.77</td>\n",
       "      <td>8.46</td>\n",
       "      <td>82.74</td>\n",
       "      <td>Sports</td>\n",
       "    </tr>\n",
       "    <tr>\n",
       "      <th>1</th>\n",
       "      <td>2</td>\n",
       "      <td>Super Mario Bros.</td>\n",
       "      <td>NES</td>\n",
       "      <td>1985</td>\n",
       "      <td>Platform</td>\n",
       "      <td>Nintendo</td>\n",
       "      <td>29.08</td>\n",
       "      <td>3.58</td>\n",
       "      <td>6.81</td>\n",
       "      <td>0.77</td>\n",
       "      <td>40.24</td>\n",
       "      <td>Platform</td>\n",
       "    </tr>\n",
       "    <tr>\n",
       "      <th>2</th>\n",
       "      <td>3</td>\n",
       "      <td>Mario Kart Wii</td>\n",
       "      <td>Wii</td>\n",
       "      <td>2008</td>\n",
       "      <td>Racing</td>\n",
       "      <td>Nintendo</td>\n",
       "      <td>15.85</td>\n",
       "      <td>12.88</td>\n",
       "      <td>3.79</td>\n",
       "      <td>3.31</td>\n",
       "      <td>35.82</td>\n",
       "      <td>Racing</td>\n",
       "    </tr>\n",
       "    <tr>\n",
       "      <th>3</th>\n",
       "      <td>4</td>\n",
       "      <td>Wii Sports Resort</td>\n",
       "      <td>Wii</td>\n",
       "      <td>2009</td>\n",
       "      <td>Sports</td>\n",
       "      <td>Nintendo</td>\n",
       "      <td>15.75</td>\n",
       "      <td>11.01</td>\n",
       "      <td>3.28</td>\n",
       "      <td>2.96</td>\n",
       "      <td>33.00</td>\n",
       "      <td>Sports</td>\n",
       "    </tr>\n",
       "    <tr>\n",
       "      <th>4</th>\n",
       "      <td>5</td>\n",
       "      <td>Pokemon Red/Pokemon Blue</td>\n",
       "      <td>GB</td>\n",
       "      <td>1996</td>\n",
       "      <td>Role-Playing</td>\n",
       "      <td>Nintendo</td>\n",
       "      <td>11.27</td>\n",
       "      <td>8.89</td>\n",
       "      <td>10.22</td>\n",
       "      <td>1.00</td>\n",
       "      <td>31.37</td>\n",
       "      <td>Role-Playing</td>\n",
       "    </tr>\n",
       "  </tbody>\n",
       "</table>\n",
       "</div>"
      ],
      "text/plain": [
       "   Rank                      Name Platform  Year         Genre Publisher  \\\n",
       "0     1                Wii Sports      Wii  2006        Sports  Nintendo   \n",
       "1     2         Super Mario Bros.      NES  1985      Platform  Nintendo   \n",
       "2     3            Mario Kart Wii      Wii  2008        Racing  Nintendo   \n",
       "3     4         Wii Sports Resort      Wii  2009        Sports  Nintendo   \n",
       "4     5  Pokemon Red/Pokemon Blue       GB  1996  Role-Playing  Nintendo   \n",
       "\n",
       "   NA_Sales  EU_Sales  JP_Sales  Other_Sales  Global_Sales     Genre_cat  \n",
       "0     41.49     29.02      3.77         8.46         82.74        Sports  \n",
       "1     29.08      3.58      6.81         0.77         40.24      Platform  \n",
       "2     15.85     12.88      3.79         3.31         35.82        Racing  \n",
       "3     15.75     11.01      3.28         2.96         33.00        Sports  \n",
       "4     11.27      8.89     10.22         1.00         31.37  Role-Playing  "
      ]
     },
     "execution_count": 12,
     "metadata": {},
     "output_type": "execute_result"
    }
   ],
   "source": [
    "df.head()"
   ]
  },
  {
   "cell_type": "code",
   "execution_count": 13,
   "metadata": {},
   "outputs": [],
   "source": [
    "\n",
    "df['Genre_cat_codes'] = df['Genre_cat'].cat.codes"
   ]
  },
  {
   "cell_type": "code",
   "execution_count": 14,
   "metadata": {},
   "outputs": [
    {
     "name": "stdout",
     "output_type": "stream",
     "text": [
      "<class 'pandas.core.frame.DataFrame'>\n",
      "RangeIndex: 16598 entries, 0 to 16597\n",
      "Data columns (total 13 columns):\n",
      " #   Column           Non-Null Count  Dtype   \n",
      "---  ------           --------------  -----   \n",
      " 0   Rank             16598 non-null  int64   \n",
      " 1   Name             16598 non-null  object  \n",
      " 2   Platform         16598 non-null  object  \n",
      " 3   Year             16598 non-null  object  \n",
      " 4   Genre            16598 non-null  object  \n",
      " 5   Publisher        16598 non-null  object  \n",
      " 6   NA_Sales         16598 non-null  float64 \n",
      " 7   EU_Sales         16598 non-null  float64 \n",
      " 8   JP_Sales         16598 non-null  float64 \n",
      " 9   Other_Sales      16598 non-null  float64 \n",
      " 10  Global_Sales     16598 non-null  float64 \n",
      " 11  Genre_cat        16598 non-null  category\n",
      " 12  Genre_cat_codes  16598 non-null  int8    \n",
      "dtypes: category(1), float64(5), int64(1), int8(1), object(5)\n",
      "memory usage: 1.4+ MB\n"
     ]
    }
   ],
   "source": [
    "df.info()"
   ]
  },
  {
   "cell_type": "code",
   "execution_count": 15,
   "metadata": {},
   "outputs": [
    {
     "data": {
      "text/html": [
       "<div>\n",
       "<style scoped>\n",
       "    .dataframe tbody tr th:only-of-type {\n",
       "        vertical-align: middle;\n",
       "    }\n",
       "\n",
       "    .dataframe tbody tr th {\n",
       "        vertical-align: top;\n",
       "    }\n",
       "\n",
       "    .dataframe thead th {\n",
       "        text-align: right;\n",
       "    }\n",
       "</style>\n",
       "<table border=\"1\" class=\"dataframe\">\n",
       "  <thead>\n",
       "    <tr style=\"text-align: right;\">\n",
       "      <th></th>\n",
       "      <th>Rank</th>\n",
       "      <th>Name</th>\n",
       "      <th>Platform</th>\n",
       "      <th>Year</th>\n",
       "      <th>Genre</th>\n",
       "      <th>Publisher</th>\n",
       "      <th>NA_Sales</th>\n",
       "      <th>EU_Sales</th>\n",
       "      <th>JP_Sales</th>\n",
       "      <th>Other_Sales</th>\n",
       "      <th>Global_Sales</th>\n",
       "      <th>Genre_cat</th>\n",
       "      <th>Genre_cat_codes</th>\n",
       "    </tr>\n",
       "  </thead>\n",
       "  <tbody>\n",
       "    <tr>\n",
       "      <th>0</th>\n",
       "      <td>1</td>\n",
       "      <td>Wii Sports</td>\n",
       "      <td>Wii</td>\n",
       "      <td>2006</td>\n",
       "      <td>Sports</td>\n",
       "      <td>Nintendo</td>\n",
       "      <td>41.49</td>\n",
       "      <td>29.02</td>\n",
       "      <td>3.77</td>\n",
       "      <td>8.46</td>\n",
       "      <td>82.74</td>\n",
       "      <td>Sports</td>\n",
       "      <td>10</td>\n",
       "    </tr>\n",
       "    <tr>\n",
       "      <th>1</th>\n",
       "      <td>2</td>\n",
       "      <td>Super Mario Bros.</td>\n",
       "      <td>NES</td>\n",
       "      <td>1985</td>\n",
       "      <td>Platform</td>\n",
       "      <td>Nintendo</td>\n",
       "      <td>29.08</td>\n",
       "      <td>3.58</td>\n",
       "      <td>6.81</td>\n",
       "      <td>0.77</td>\n",
       "      <td>40.24</td>\n",
       "      <td>Platform</td>\n",
       "      <td>4</td>\n",
       "    </tr>\n",
       "    <tr>\n",
       "      <th>2</th>\n",
       "      <td>3</td>\n",
       "      <td>Mario Kart Wii</td>\n",
       "      <td>Wii</td>\n",
       "      <td>2008</td>\n",
       "      <td>Racing</td>\n",
       "      <td>Nintendo</td>\n",
       "      <td>15.85</td>\n",
       "      <td>12.88</td>\n",
       "      <td>3.79</td>\n",
       "      <td>3.31</td>\n",
       "      <td>35.82</td>\n",
       "      <td>Racing</td>\n",
       "      <td>6</td>\n",
       "    </tr>\n",
       "    <tr>\n",
       "      <th>3</th>\n",
       "      <td>4</td>\n",
       "      <td>Wii Sports Resort</td>\n",
       "      <td>Wii</td>\n",
       "      <td>2009</td>\n",
       "      <td>Sports</td>\n",
       "      <td>Nintendo</td>\n",
       "      <td>15.75</td>\n",
       "      <td>11.01</td>\n",
       "      <td>3.28</td>\n",
       "      <td>2.96</td>\n",
       "      <td>33.00</td>\n",
       "      <td>Sports</td>\n",
       "      <td>10</td>\n",
       "    </tr>\n",
       "    <tr>\n",
       "      <th>4</th>\n",
       "      <td>5</td>\n",
       "      <td>Pokemon Red/Pokemon Blue</td>\n",
       "      <td>GB</td>\n",
       "      <td>1996</td>\n",
       "      <td>Role-Playing</td>\n",
       "      <td>Nintendo</td>\n",
       "      <td>11.27</td>\n",
       "      <td>8.89</td>\n",
       "      <td>10.22</td>\n",
       "      <td>1.00</td>\n",
       "      <td>31.37</td>\n",
       "      <td>Role-Playing</td>\n",
       "      <td>7</td>\n",
       "    </tr>\n",
       "  </tbody>\n",
       "</table>\n",
       "</div>"
      ],
      "text/plain": [
       "   Rank                      Name Platform  Year         Genre Publisher  \\\n",
       "0     1                Wii Sports      Wii  2006        Sports  Nintendo   \n",
       "1     2         Super Mario Bros.      NES  1985      Platform  Nintendo   \n",
       "2     3            Mario Kart Wii      Wii  2008        Racing  Nintendo   \n",
       "3     4         Wii Sports Resort      Wii  2009        Sports  Nintendo   \n",
       "4     5  Pokemon Red/Pokemon Blue       GB  1996  Role-Playing  Nintendo   \n",
       "\n",
       "   NA_Sales  EU_Sales  JP_Sales  Other_Sales  Global_Sales     Genre_cat  \\\n",
       "0     41.49     29.02      3.77         8.46         82.74        Sports   \n",
       "1     29.08      3.58      6.81         0.77         40.24      Platform   \n",
       "2     15.85     12.88      3.79         3.31         35.82        Racing   \n",
       "3     15.75     11.01      3.28         2.96         33.00        Sports   \n",
       "4     11.27      8.89     10.22         1.00         31.37  Role-Playing   \n",
       "\n",
       "   Genre_cat_codes  \n",
       "0               10  \n",
       "1                4  \n",
       "2                6  \n",
       "3               10  \n",
       "4                7  "
      ]
     },
     "execution_count": 15,
     "metadata": {},
     "output_type": "execute_result"
    }
   ],
   "source": [
    "df.head()\n"
   ]
  },
  {
   "cell_type": "code",
   "execution_count": 17,
   "metadata": {},
   "outputs": [
    {
     "data": {
      "text/plain": [
       "0     3316\n",
       "10    2346\n",
       "3     1739\n",
       "7     1488\n",
       "8     1310\n",
       "1     1286\n",
       "6     1249\n",
       "4      886\n",
       "9      867\n",
       "2      848\n",
       "11     681\n",
       "5      582\n",
       "Name: Genre_cat_codes, dtype: int64"
      ]
     },
     "execution_count": 17,
     "metadata": {},
     "output_type": "execute_result"
    }
   ],
   "source": [
    "df['Genre_cat_codes'].value_counts() #gravel has taken zero value due to alphabetical order of classes"
   ]
  },
  {
   "cell_type": "code",
   "execution_count": 18,
   "metadata": {},
   "outputs": [
    {
     "name": "stdout",
     "output_type": "stream",
     "text": [
      "Original values:\n",
      "0.00    10455\n",
      "0.02      728\n",
      "0.01      704\n",
      "0.03      528\n",
      "0.04      397\n",
      "        ...  \n",
      "1.97        1\n",
      "1.51        1\n",
      "1.16        1\n",
      "2.12        1\n",
      "6.50        1\n",
      "Name: JP_Sales, Length: 244, dtype: int64\n",
      "\n",
      "Encoded values:\n",
      "0.00    10455\n",
      "0.02      728\n",
      "0.01      704\n",
      "0.03      528\n",
      "0.04      397\n",
      "        ...  \n",
      "1.97        1\n",
      "1.51        1\n",
      "1.16        1\n",
      "2.12        1\n",
      "6.50        1\n",
      "Name: JP_Sales, Length: 244, dtype: int64\n"
     ]
    }
   ],
   "source": [
    "df['JP_Sales_cat'] = df['JP_Sales'].astype('category').cat.codes\n",
    "print(\"Original values:\\n{}\\n\\nEncoded values:\\n{}\".format(df['JP_Sales'].value_counts(dropna=False),df['JP_Sales'].value_counts()))"
   ]
  },
  {
   "cell_type": "code",
   "execution_count": 19,
   "metadata": {},
   "outputs": [
    {
     "data": {
      "text/plain": [
       "Electronic Arts                 1351\n",
       "Activision                       975\n",
       "Namco Bandai Games               932\n",
       "Ubisoft                          921\n",
       "Konami Digital Entertainment     832\n",
       "                                ... \n",
       "Altron                             1\n",
       "Team17 Software                    1\n",
       "King Records                       1\n",
       "Locus                              1\n",
       "Bohemia Interactive                1\n",
       "Name: Publisher, Length: 579, dtype: int64"
      ]
     },
     "execution_count": 19,
     "metadata": {},
     "output_type": "execute_result"
    }
   ],
   "source": [
    "### Ordinal Values\n",
    "df['Publisher_nom'] = df['Publisher'].astype('category').cat.codes\n",
    "df['Publisher'].value_counts(dropna=False)"
   ]
  },
  {
   "cell_type": "code",
   "execution_count": 20,
   "metadata": {},
   "outputs": [
    {
     "data": {
      "text/plain": [
       "138    1351\n",
       "21      975\n",
       "348     932\n",
       "526     921\n",
       "275     832\n",
       "       ... \n",
       "553       1\n",
       "499       1\n",
       "74        1\n",
       "451       1\n",
       "551       1\n",
       "Name: Publisher_nom, Length: 579, dtype: int64"
      ]
     },
     "execution_count": 20,
     "metadata": {},
     "output_type": "execute_result"
    }
   ],
   "source": [
    "df['Publisher_nom'].value_counts()"
   ]
  },
  {
   "cell_type": "code",
   "execution_count": 23,
   "metadata": {},
   "outputs": [
    {
     "data": {
      "text/plain": [
       "array([360, 323, 495, 457,  21, 526,  66, 138, 447, 467,  53,   6,  85,\n",
       "       177, 275, 459, 466, 288, 543, 550, 530, 137, 427, 546, 144, 348,\n",
       "       386, 214, 489, 164,  17, 292, 126, 342, 296,  91, 425, 281,  40,\n",
       "       325, 253, 120,  10, 344, 523, 392, 308, 237, 501, 535,  13, 330,\n",
       "       241, 531, 464, 534,  23,  63, 109, 379, 426, 540, 219, 198, 199,\n",
       "       553, 206, 101, 224,  94, 431,  55, 487,  12, 568,  18, 461,   4,\n",
       "       420, 349, 160,  30,  71, 462, 303, 373, 567, 414,  88, 142, 474,\n",
       "        97, 435, 492,  27, 176, 322, 401, 452, 513, 442, 273, 182, 510,\n",
       "       299, 191, 334, 399,  84, 497, 104, 437, 415, 577, 421, 527, 444,\n",
       "       246, 341,  87, 465,   2,  58, 223, 368, 314, 366,  67, 515, 463,\n",
       "       256, 363, 277, 416, 233, 508, 170, 433, 318, 305, 227, 434, 458,\n",
       "       529, 193, 555,  61, 382, 517, 279, 232, 493, 263, 122, 146, 560,\n",
       "       238, 483,  83,  44, 186, 324, 255,  36, 556,  22, 384, 423, 559,\n",
       "       528, 184, 547, 369, 503, 148,  60, 272, 304, 505, 213, 133, 491,\n",
       "       502, 337, 445, 400, 294, 315, 269, 225,  57, 116, 139,  70, 254,\n",
       "         9, 494, 311, 140, 265, 469, 569, 258, 121, 354,  77, 228, 408,\n",
       "       222,  19, 470, 380,  62, 189, 356, 472,  93,  80, 295, 301, 359,\n",
       "       549,  35,  39, 404, 439, 211, 165, 362, 358, 286,  99, 112, 218,\n",
       "       338, 383, 240, 285, 346,  59,  43, 478, 207, 438, 347, 166, 558,\n",
       "       533, 539, 123,  34, 367,  75, 156,  11,  81, 328, 446, 257, 448,\n",
       "       375, 343,  50, 203,  26,  98, 105, 293, 450, 317, 424, 364, 486,\n",
       "       570, 162,  51, 441, 262, 230, 393,  52, 100, 402, 524, 231, 403,\n",
       "       150,  24, 171, 387,  72, 183, 111,  56, 410, 352, 542,  38, 481,\n",
       "       554, 482, 537, 113, 131, 310, 538, 506, 181,  78,  20, 190, 153,\n",
       "       234, 480, 460,  37, 391, 221, 128, 518, 471, 561, 436,  69, 215,\n",
       "       453, 200, 172, 504, 522, 129, 117, 291, 110, 169, 440,  74, 428,\n",
       "       519, 336, 485, 371,  28, 345, 118, 509, 179, 115, 372, 188, 557,\n",
       "       451, 532, 409, 490, 209,   7,  86,  82, 321, 381, 388, 320, 185,\n",
       "        64, 521, 145,  49, 247,  48, 576, 235, 395, 152, 578, 106, 204,\n",
       "       210, 217, 361, 377, 449, 333, 326,  16, 159, 196, 287, 551, 114,\n",
       "        31, 340, 316, 251, 477, 141, 151, 511, 197, 136,  54,  41, 187,\n",
       "       512,  32, 212, 573, 312, 163, 430, 239, 103,   0, 205, 385, 242,\n",
       "        46,  47, 135, 565, 396, 208, 201, 125, 102, 264, 552, 278,  14,\n",
       "        90,  42, 149, 298, 413, 514, 394,   1, 507, 499, 536, 332, 516,\n",
       "       498, 563, 411, 350, 313, 306,  95, 335, 407, 432, 475, 327, 405,\n",
       "       290, 276, 158,   5, 280,  29, 107,  89, 454, 544, 243, 456, 154,\n",
       "       566, 229, 252,   3, 289, 267, 259, 374, 297, 157, 412, 307,  65,\n",
       "       168, 130, 575,  68, 220, 266,  15, 216, 261, 108, 260, 417, 476,\n",
       "       571, 488, 143, 155, 245, 173, 479, 274, 370, 357, 574,  79, 520,\n",
       "       473,   8, 174, 564, 134, 283, 167, 282, 389, 270, 175, 202, 271,\n",
       "       250, 329, 124,  73, 178, 562, 406, 541, 572, 353,  92, 418, 397,\n",
       "       127, 300, 161, 236, 268,  25, 500, 180, 331, 119, 443, 226, 429,\n",
       "       195, 545,  33, 339, 194, 548, 484, 455, 284, 302, 419, 319, 309,\n",
       "       355, 192, 248,  76, 468, 132, 147, 351,  45, 398, 365, 390, 378,\n",
       "       376,  96, 249, 496, 244, 422, 525])"
      ]
     },
     "execution_count": 23,
     "metadata": {},
     "output_type": "execute_result"
    }
   ],
   "source": [
    "#Using LabelEncoder , it is efficient tool for encoding the levels of categorical features into numeric values. \n",
    "from sklearn.preprocessing import LabelEncoder\n",
    "label_encoder=LabelEncoder()\n",
    "df['Publisher_ord']= label_encoder.fit_transform(df['Publisher']) \n",
    "  \n",
    "df['Publisher_ord'].unique()"
   ]
  },
  {
   "cell_type": "code",
   "execution_count": 24,
   "metadata": {},
   "outputs": [
    {
     "data": {
      "text/plain": [
       "Electronic Arts                 1351\n",
       "Activision                       975\n",
       "Namco Bandai Games               932\n",
       "Ubisoft                          921\n",
       "Konami Digital Entertainment     832\n",
       "                                ... \n",
       "Altron                             1\n",
       "Team17 Software                    1\n",
       "King Records                       1\n",
       "Locus                              1\n",
       "Bohemia Interactive                1\n",
       "Name: Publisher, Length: 579, dtype: int64"
      ]
     },
     "execution_count": 24,
     "metadata": {},
     "output_type": "execute_result"
    }
   ],
   "source": [
    "df['Publisher'].value_counts()"
   ]
  },
  {
   "cell_type": "code",
   "execution_count": 25,
   "metadata": {
    "scrolled": true
   },
   "outputs": [
    {
     "data": {
      "text/plain": [
       "[array(['10TACLE Studios', '1C Company', '20th Century Fox Video Games',\n",
       "        '2D Boy', '3DO', '49Games', '505 Games', '5pb', '7G//AMES',\n",
       "        '989 Sports', '989 Studios', 'AQ Interactive', 'ASC Games',\n",
       "        'ASCII Entertainment', 'ASCII Media Works', 'ASK', 'Abylight',\n",
       "        'Acclaim Entertainment', 'Accolade', 'Ackkstudios', 'Acquire',\n",
       "        'Activision', 'Activision Blizzard', 'Activision Value',\n",
       "        'Adeline Software', 'Aerosoft', 'Agatsuma Entertainment', 'Agetec',\n",
       "        'Aksys Games', 'Alawar Entertainment', 'Alchemist',\n",
       "        'Alternative Software', 'Altron', 'Alvion', 'American Softworks',\n",
       "        'Angel Studios', 'Answer Software', 'Aqua Plus', 'Aques',\n",
       "        'Arc System Works', 'Arena Entertainment', 'Aria', 'Arika',\n",
       "        'ArtDink', 'Aruze Corp', 'Ascaron Entertainment',\n",
       "        'Ascaron Entertainment GmbH', 'Asgard', 'Asmik Ace Entertainment',\n",
       "        'Asmik Corp', 'Aspyr', 'Astragon', 'Asylum Entertainment', 'Atari',\n",
       "        'Athena', 'Atlus', 'Avalon Interactive', 'Avanquest',\n",
       "        'Avanquest Software', 'Axela', 'BAM! Entertainment',\n",
       "        'BMG Interactive Entertainment', 'BPS', 'Banpresto', 'Benesse',\n",
       "        'Berkeley', 'Bethesda Softworks', 'Big Ben Interactive',\n",
       "        'Big Fish Games', 'Bigben Interactive', 'Black Bean Games',\n",
       "        'Black Label Games', 'Blast! Entertainment Ltd', 'Blue Byte',\n",
       "        'Bohemia Interactive', 'Bomb', 'Boost On', 'Brash Entertainment',\n",
       "        'Broccoli', 'BushiRoad', 'CBS Electronics', 'CCP',\n",
       "        'CDV Software Entertainment', 'CPG Products', 'CTO SpA', 'Capcom',\n",
       "        'Cave', 'ChunSoft', 'City Interactive',\n",
       "        'Cloud Imperium Games Corporation', 'Coconuts Japan',\n",
       "        'Codemasters', 'Codemasters Online', 'CokeM Interactive', 'Coleco',\n",
       "        'Comfort', 'Commseed', 'Compile', 'Compile Heart',\n",
       "        'Conspiracy Entertainment', 'Core Design Ltd.',\n",
       "        'Crave Entertainment', 'Creative Core', 'Crimson Cow',\n",
       "        'Crystal Dynamics', 'Culture Brain', 'Culture Publishers',\n",
       "        'CyberFront', 'Cygames', 'D3Publisher', 'DHM Interactive',\n",
       "        'DSI Games', 'DTP Entertainment', 'Daedalic',\n",
       "        'Daedalic Entertainment', 'Daito', 'Data Age',\n",
       "        'Data Design Interactive', 'Data East', 'Datam Polystar',\n",
       "        'Deep Silver', 'Destination Software, Inc', 'Destineer',\n",
       "        'Detn8 Games', 'Devolver Digital', 'DigiCube',\n",
       "        'Disney Interactive Studios', 'Dorart', 'DreamCatcher Interactive',\n",
       "        'DreamWorks Interactive', 'Dusenberry Martin Racing', 'EA Games',\n",
       "        'EON Digital Entertainment', 'ESP', 'Easy Interactive', 'Ecole',\n",
       "        'Edia', 'Eidos Interactive', 'Electronic Arts',\n",
       "        'Electronic Arts Victor', 'Elf', 'Elite', 'Empire Interactive',\n",
       "        'Encore', 'Enix Corporation', 'Enjoy Gaming ltd.', 'Enterbrain',\n",
       "        'Epic Games', 'Epoch', 'Ertain', 'Essential Games',\n",
       "        'Evolution Games', 'Evolved Games', 'Excalibur Publishing',\n",
       "        'Experience Inc.', 'Extreme Entertainment Group',\n",
       "        'Falcom Corporation', 'Fields', 'Flashpoint Games', 'Flight-Plan',\n",
       "        'Focus Home Interactive', 'Focus Multimedia',\n",
       "        'Foreign Media Games', 'Fortyfive', 'Fox Interactive',\n",
       "        'From Software', 'FuRyu', 'FuRyu Corporation', 'Fuji', 'FunSoft',\n",
       "        'Funbox Media', 'Funcom', 'Funsta', 'G.Rev', 'GN Software', 'GOA',\n",
       "        'GSP', 'GT Interactive', 'Gaga', 'Gainax Network Systems',\n",
       "        'Gakken', 'Game Arts', 'Game Factory', 'Game Life',\n",
       "        'GameMill Entertainment', 'GameTek', 'Gamebridge', 'Gamecock',\n",
       "        'Gameloft', 'Gathering of Developers', 'General Entertainment',\n",
       "        'Genki', 'Genterprise', 'Ghostlight', 'Giga', 'Giza10', 'Glams',\n",
       "        'Global A Entertainment', 'Global Star', 'Gotham Games',\n",
       "        'Graffiti', 'Grand Prix Games', 'Graphsim Entertainment',\n",
       "        'Gremlin Interactive Ltd', 'Griffin International', 'Groove Games',\n",
       "        'GungHo', 'Gust', 'HAL Laboratory', 'HMH Interactive', 'Hackberry',\n",
       "        'Hamster Corporation', 'Happinet', 'Harmonix Music Systems',\n",
       "        'Hasbro Interactive', 'Havas Interactive', 'Headup Games',\n",
       "        'Hearty Robin', 'Hect', 'Hello Games', 'Her Interactive',\n",
       "        'Hip Interactive', 'Home Entertainment Suppliers',\n",
       "        'Hudson Entertainment', 'Hudson Soft', 'Human Entertainment',\n",
       "        'HuneX', 'IE Institute', 'ITT Family Games', 'Iceberg Interactive',\n",
       "        'Idea Factory', 'Idea Factory International',\n",
       "        'Ignition Entertainment', 'Illusion Softworks', 'Imadio',\n",
       "        'Image Epoch', 'Imageworks', 'Imagic', 'Imagineer', 'Imax',\n",
       "        'Indie Games', 'Infogrames', 'Insomniac Games', 'Interchannel',\n",
       "        'Interchannel-Holon', 'Intergrow', 'Interplay',\n",
       "        'Interplay Productions', 'Interworks Unlimited, Inc.',\n",
       "        'Inti Creates', 'Introversion Software',\n",
       "        'Irem Software Engineering', 'Ivolgamus', 'JVC',\n",
       "        'Jack of All Games', 'Jaleco', 'Jester Interactive',\n",
       "        'JoWood Productions', 'Jorudan', 'Just Flight', 'KID', 'KSS',\n",
       "        'Kadokawa Games', 'Kadokawa Shoten', 'Kaga Create',\n",
       "        'Kalypso Media', 'Kamui', 'Kando Games', 'Karin Entertainment',\n",
       "        'Kemco', 'Kids Station', 'King Records', 'Knowledge Adventure',\n",
       "        'Koch Media', 'Kokopeli Digital Studios',\n",
       "        'Konami Digital Entertainment', 'Kool Kizz', 'LEGO Media',\n",
       "        'LSP Games', 'Laguna', 'Legacy Interactive', 'Level 5',\n",
       "        'Lexicon Entertainment', 'Licensed 4U', 'Lighthouse Interactive',\n",
       "        'Liquid Games', 'Little Orbit', 'Locus', 'LucasArts',\n",
       "        'MC2 Entertainment', 'MLB.com', 'MTO', 'MTV Games', 'Mad Catz',\n",
       "        'Magical Company', 'Magix', 'Majesco Entertainment', 'Mamba Games',\n",
       "        'Marvel Entertainment', 'Marvelous Entertainment',\n",
       "        'Marvelous Games', 'Marvelous Interactive', 'Masque Publishing',\n",
       "        'Mastertronic', 'Mastiff', 'Mattel Interactive', 'Max Five',\n",
       "        'Maximum Family Games', 'Maxis', 'Media Entertainment',\n",
       "        'Media Factory', 'Media Rings', 'Media Works', 'MediaQuest',\n",
       "        'Men-A-Vision', 'Mentor Interactive', 'Mercury Games',\n",
       "        'Merscom LLC', 'Metro 3D', 'Michaelsoft', 'Micro Cabin',\n",
       "        'Microids', 'Microprose', 'Microsoft Game Studios',\n",
       "        'Midas Interactive Entertainment', 'Midway Games', 'Milestone',\n",
       "        'Milestone S.r.l', 'Milestone S.r.l.', 'Minato Station',\n",
       "        'Mindscape', 'Mirai Shounen', 'Misawa', 'Mitsui', 'Mojang',\n",
       "        'Monte Christo Multimedia', 'Moss', 'Mud Duck Productions',\n",
       "        'Mumbo Jumbo', 'Mycom', 'Myelin Media', 'Mystique', 'N/A', 'NCS',\n",
       "        'NCSoft', 'NDA Productions', 'NEC', 'NEC Interchannel',\n",
       "        'Namco Bandai Games', 'Natsume', 'Navarre Corp', 'Naxat Soft',\n",
       "        'Neko Entertainment', 'NetRevo', 'New', 'New World Computing',\n",
       "        'NewKidCo', 'Nexon', 'Nichibutsu', 'Nihon Falcom Corporation',\n",
       "        'Nintendo', 'Nippon Amuse', 'Nippon Columbia',\n",
       "        'Nippon Ichi Software', 'Nippon Telenet', 'Nitroplus', 'Nobilis',\n",
       "        'Nordcurrent', 'Nordic Games', 'NovaLogic', 'Number None',\n",
       "        'O-Games', 'O3 Entertainment', 'Ocean', 'Office Create',\n",
       "        'On Demand', 'Ongakukan', 'Origin Systems', 'Otomate',\n",
       "        'Oxygen Interactive', 'P2 Games', 'PM Studios', 'PQube',\n",
       "        'Pacific Century Cyber Works', 'Pack In Soft', 'Pack-In-Video',\n",
       "        'Palcom', 'Panther Software', 'Paon', 'Paon Corporation',\n",
       "        'Paradox Development', 'Paradox Interactive', 'Parker Bros.',\n",
       "        'Performance Designed Products', 'Phantagram', 'Phantom EFX',\n",
       "        'Phenomedia', 'Phoenix Games', 'Piacci', 'Pinnacle', 'Pioneer LDC',\n",
       "        'Play It', 'PlayV', 'Playlogic Game Factory', 'Playmates',\n",
       "        'Playmore', 'Plenty', 'Pony Canyon', 'PopCap Games',\n",
       "        'PopTop Software', 'Popcorn Arcade', 'Pow', 'Princess Soft',\n",
       "        'Prototype', 'Psygnosis', 'Quelle', 'Quest', 'Quinrose', 'Quintet',\n",
       "        'RED Entertainment', 'RTL', 'Rage Software', 'Rain Games',\n",
       "        'Rebellion', 'Rebellion Developments', 'Red Orb',\n",
       "        'Red Storm Entertainment', 'RedOctane', 'Reef Entertainment',\n",
       "        'Revolution (Japan)', 'Revolution Software', 'Rising Star Games',\n",
       "        'Riverhillsoft', 'Rocket Company', 'Rondomedia', 'Russel',\n",
       "        'SCS Software', 'SCi', 'SNK', 'SNK Playmore', 'SPS', 'SSI',\n",
       "        'Sammy Corporation', 'Saurus', 'Scholastic Inc.', 'Screenlife',\n",
       "        'Sears', 'Sega', 'Seta Corporation', 'Seventh Chord', 'Shogakukan',\n",
       "        'Simon & Schuster Interactive', 'Slightly Mad Studios',\n",
       "        'Slitherine Software', 'Societa', 'Sold Out', 'Sonnet',\n",
       "        'Sony Computer Entertainment',\n",
       "        'Sony Computer Entertainment America',\n",
       "        'Sony Computer Entertainment Europe', 'Sony Music Entertainment',\n",
       "        'Sony Online Entertainment', 'SouthPeak Games', 'Spike', 'Square',\n",
       "        'Square EA', 'Square Enix', 'SquareSoft', 'Stainless Games',\n",
       "        'Starfish', 'Starpath Corp.', 'Sting', 'Storm City Games',\n",
       "        'Strategy First', 'Success', 'Summitsoft', 'Sunflowers',\n",
       "        'Sunrise Interactive', 'Sunsoft', 'Sweets', 'Swing! Entertainment',\n",
       "        'Syscom', 'System 3', 'System 3 Arcade Software', 'System Soft',\n",
       "        'T&E Soft', 'TDK Core', 'TDK Mediactive', 'TGL', 'THQ', 'TOHO',\n",
       "        'TYO', 'Taito', 'Takara', 'Takara Tomy', 'Take-Two Interactive',\n",
       "        'Takuyo', 'TalonSoft', 'Team17 Software', 'TechnoSoft',\n",
       "        'Technos Japan Corporation', 'Tecmo Koei', 'Telegames',\n",
       "        'Telltale Games', 'Telstar', 'Tetris Online',\n",
       "        'The Adventure Company', 'The Learning Company', 'Tigervision',\n",
       "        'Time Warner Interactive', 'Titus', 'Tivola', 'Tommo',\n",
       "        'Tomy Corporation', 'TopWare Interactive', 'Touchstone',\n",
       "        'Tradewest', 'Trion Worlds', 'Tripwire Interactive',\n",
       "        'Tru Blu Entertainment', 'Tryfirst', 'Type-Moon', 'U.S. Gold',\n",
       "        'UEP Systems', 'UFO Interactive', 'UIG Entertainment', 'Ubisoft',\n",
       "        'Ubisoft Annecy', 'Ultravision', 'Universal Gamex',\n",
       "        'Universal Interactive', 'Unknown', 'Valcon Games', 'ValuSoft',\n",
       "        'Valve', 'Valve Software', 'Vap', 'Vatical Entertainment',\n",
       "        'Vic Tokai', 'Victor Interactive', 'Video System', 'Views',\n",
       "        'Vir2L Studios', 'Virgin Interactive', 'Virtual Play Games',\n",
       "        'Visco', 'Vivendi Games', 'Wanadoo', 'Warashi', 'Wargaming.net',\n",
       "        'Warner Bros. Interactive Entertainment', 'Warp',\n",
       "        'WayForward Technologies', 'Westwood Studios',\n",
       "        'White Park Bay Software', 'Wizard Video Games', 'XS Games',\n",
       "        'Xicat Interactive', 'Xing Entertainment', 'Xplosiv',\n",
       "        'Xseed Games', 'Yacht Club Games', 'Yamasa Entertainment', 'Yeti',\n",
       "        \"Yuke's\", 'Yumedia', 'Zenrin', 'Zoo Digital Publishing',\n",
       "        'Zoo Games', 'Zushi Games', 'bitComposer Games', 'dramatic create',\n",
       "        'fonfun', 'iWin', 'id Software', 'imageepoch Inc.',\n",
       "        'inXile Entertainment', 'mixi, Inc', 'responDESIGN'], dtype=object)]"
      ]
     },
     "execution_count": 25,
     "metadata": {},
     "output_type": "execute_result"
    }
   ],
   "source": [
    "#using one hot encoder\n",
    "pd.get_dummies(df['Publisher'])\n",
    "#same set of dummy variables can be created using OneHotEncoder from sklearn.\n",
    "from sklearn.preprocessing import OneHotEncoder\n",
    "enc = OneHotEncoder(sparse=False)\n",
    "X = enc.fit_transform(df['Publisher'][:,np.newaxis])\n",
    "enc.fit(df['Publisher'][:,np.newaxis]).categories_"
   ]
  },
  {
   "cell_type": "code",
   "execution_count": 26,
   "metadata": {},
   "outputs": [
    {
     "data": {
      "image/png": "[encoded data removed]",
      "text/plain": [
       "<Figure size 892.8x360 with 1 Axes>"
      ]
     },
     "metadata": {},
     "output_type": "display_data"
    },
    {
     "data": {
      "image/png": "[encoded data removed]",
      "text/plain": [
       "<Figure size 892.8x360 with 1 Axes>"
      ]
     },
     "metadata": {},
     "output_type": "display_data"
    },
    {
     "data": {
      "image/png": "[encoded data removed]",
      "text/plain": [
       "<Figure size 892.8x360 with 1 Axes>"
      ]
     },
     "metadata": {},
     "output_type": "display_data"
    }
   ],
   "source": [
    "##Plotting categorical features\n",
    "cols = ['Platform','Publisher', 'Genre']\n",
    "\n",
    "for col in cols:\n",
    "    chart = df[['Name', col]].groupby([col]).count().sort_values('Name', ascending=False).reset_index()\n",
    "    sns.set_style(\"white\")\n",
    "    plt.figure(figsize=(12.4, 5))\n",
    "    plt.xticks(rotation=90)\n",
    "    sns.barplot(x=col, y='Name', data=chart[:30], palette=sns.cubehelix_palette((12 if col == 'Genre' else 30), dark=0.3, light=.85, reverse=True)).set_title(('Game count by '+col), fontsize=16)\n",
    "    plt.ylabel('Count', fontsize=14)\n",
    "    plt.xlabel('')"
   ]
  },
  {
   "cell_type": "code",
   "execution_count": 27,
   "metadata": {},
   "outputs": [
    {
     "data": {
      "text/html": [
       "<div>\n",
       "<style scoped>\n",
       "    .dataframe tbody tr th:only-of-type {\n",
       "        vertical-align: middle;\n",
       "    }\n",
       "\n",
       "    .dataframe tbody tr th {\n",
       "        vertical-align: top;\n",
       "    }\n",
       "\n",
       "    .dataframe thead th {\n",
       "        text-align: right;\n",
       "    }\n",
       "</style>\n",
       "<table border=\"1\" class=\"dataframe\">\n",
       "  <thead>\n",
       "    <tr style=\"text-align: right;\">\n",
       "      <th></th>\n",
       "      <th>Name</th>\n",
       "      <th>Year</th>\n",
       "      <th>Genre</th>\n",
       "    </tr>\n",
       "  </thead>\n",
       "  <tbody>\n",
       "    <tr>\n",
       "      <th>0</th>\n",
       "      <td>Wii Sports</td>\n",
       "      <td>2006.0</td>\n",
       "      <td>Sports</td>\n",
       "    </tr>\n",
       "    <tr>\n",
       "      <th>1</th>\n",
       "      <td>Super Mario Bros.</td>\n",
       "      <td>1985.0</td>\n",
       "      <td>Platform</td>\n",
       "    </tr>\n",
       "    <tr>\n",
       "      <th>2</th>\n",
       "      <td>Mario Kart Wii</td>\n",
       "      <td>2008.0</td>\n",
       "      <td>Racing</td>\n",
       "    </tr>\n",
       "    <tr>\n",
       "      <th>3</th>\n",
       "      <td>PlayerUnknown's Battlegrounds</td>\n",
       "      <td>2017.0</td>\n",
       "      <td>Shooter</td>\n",
       "    </tr>\n",
       "    <tr>\n",
       "      <th>4</th>\n",
       "      <td>Wii Sports Resort</td>\n",
       "      <td>2009.0</td>\n",
       "      <td>Sports</td>\n",
       "    </tr>\n",
       "  </tbody>\n",
       "</table>\n",
       "</div>"
      ],
      "text/plain": [
       "                            Name    Year     Genre\n",
       "0                     Wii Sports  2006.0    Sports\n",
       "1              Super Mario Bros.  1985.0  Platform\n",
       "2                 Mario Kart Wii  2008.0    Racing\n",
       "3  PlayerUnknown's Battlegrounds  2017.0   Shooter\n",
       "4              Wii Sports Resort  2009.0    Sports"
      ]
     },
     "execution_count": 27,
     "metadata": {},
     "output_type": "execute_result"
    }
   ],
   "source": [
    "df_data_1 = pd.read_csv('/home/rituraj/Downloads/vgsales1.csv',keep_default_na=False, sep=',')\n",
    "df_data_1.head()\n",
    "df_game = df_data_1[['Name', 'Year', 'Genre']]\n",
    "\n",
    "df_game.head(10)\n",
    "df_game = df_game.dropna()\n",
    "\n",
    "df_game.reset_index(inplace = True)\n",
    "df_game.drop(\"index\", axis = 1, inplace = True)\n",
    "df_game.shape\n",
    "df_game.head()\n"
   ]
  },
  {
   "cell_type": "code",
   "execution_count": 28,
   "metadata": {
    "scrolled": true
   },
   "outputs": [
    {
     "data": {
      "text/html": [
       "<div>\n",
       "<style scoped>\n",
       "    .dataframe tbody tr th:only-of-type {\n",
       "        vertical-align: middle;\n",
       "    }\n",
       "\n",
       "    .dataframe tbody tr th {\n",
       "        vertical-align: top;\n",
       "    }\n",
       "\n",
       "    .dataframe thead th {\n",
       "        text-align: right;\n",
       "    }\n",
       "</style>\n",
       "<table border=\"1\" class=\"dataframe\">\n",
       "  <thead>\n",
       "    <tr style=\"text-align: right;\">\n",
       "      <th></th>\n",
       "      <th>Rank</th>\n",
       "      <th>NA_Sales</th>\n",
       "      <th>EU_Sales</th>\n",
       "      <th>JP_Sales</th>\n",
       "      <th>Other_Sales</th>\n",
       "      <th>Global_Sales</th>\n",
       "      <th>Genre_cat_codes</th>\n",
       "      <th>JP_Sales_cat</th>\n",
       "      <th>Publisher_nom</th>\n",
       "      <th>Publisher_ord</th>\n",
       "    </tr>\n",
       "  </thead>\n",
       "  <tbody>\n",
       "    <tr>\n",
       "      <th>Rank</th>\n",
       "      <td>1.000000</td>\n",
       "      <td>-0.401362</td>\n",
       "      <td>-0.379123</td>\n",
       "      <td>-0.267785</td>\n",
       "      <td>-0.332986</td>\n",
       "      <td>-0.427407</td>\n",
       "      <td>-0.053018</td>\n",
       "      <td>-0.317237</td>\n",
       "      <td>-0.018706</td>\n",
       "      <td>-0.018706</td>\n",
       "    </tr>\n",
       "    <tr>\n",
       "      <th>NA_Sales</th>\n",
       "      <td>-0.401362</td>\n",
       "      <td>1.000000</td>\n",
       "      <td>0.767727</td>\n",
       "      <td>0.449787</td>\n",
       "      <td>0.634737</td>\n",
       "      <td>0.941047</td>\n",
       "      <td>0.017435</td>\n",
       "      <td>0.369554</td>\n",
       "      <td>0.002891</td>\n",
       "      <td>0.002891</td>\n",
       "    </tr>\n",
       "    <tr>\n",
       "      <th>EU_Sales</th>\n",
       "      <td>-0.379123</td>\n",
       "      <td>0.767727</td>\n",
       "      <td>1.000000</td>\n",
       "      <td>0.435584</td>\n",
       "      <td>0.726385</td>\n",
       "      <td>0.902836</td>\n",
       "      <td>0.016481</td>\n",
       "      <td>0.363845</td>\n",
       "      <td>0.011400</td>\n",
       "      <td>0.011400</td>\n",
       "    </tr>\n",
       "    <tr>\n",
       "      <th>JP_Sales</th>\n",
       "      <td>-0.267785</td>\n",
       "      <td>0.449787</td>\n",
       "      <td>0.435584</td>\n",
       "      <td>1.000000</td>\n",
       "      <td>0.290186</td>\n",
       "      <td>0.611816</td>\n",
       "      <td>0.030085</td>\n",
       "      <td>0.936522</td>\n",
       "      <td>0.051135</td>\n",
       "      <td>0.051135</td>\n",
       "    </tr>\n",
       "    <tr>\n",
       "      <th>Other_Sales</th>\n",
       "      <td>-0.332986</td>\n",
       "      <td>0.634737</td>\n",
       "      <td>0.726385</td>\n",
       "      <td>0.290186</td>\n",
       "      <td>1.000000</td>\n",
       "      <td>0.748331</td>\n",
       "      <td>0.009731</td>\n",
       "      <td>0.262010</td>\n",
       "      <td>0.012898</td>\n",
       "      <td>0.012898</td>\n",
       "    </tr>\n",
       "    <tr>\n",
       "      <th>Global_Sales</th>\n",
       "      <td>-0.427407</td>\n",
       "      <td>0.941047</td>\n",
       "      <td>0.902836</td>\n",
       "      <td>0.611816</td>\n",
       "      <td>0.748331</td>\n",
       "      <td>1.000000</td>\n",
       "      <td>0.021671</td>\n",
       "      <td>0.530316</td>\n",
       "      <td>0.016892</td>\n",
       "      <td>0.016892</td>\n",
       "    </tr>\n",
       "    <tr>\n",
       "      <th>Genre_cat_codes</th>\n",
       "      <td>-0.053018</td>\n",
       "      <td>0.017435</td>\n",
       "      <td>0.016481</td>\n",
       "      <td>0.030085</td>\n",
       "      <td>0.009731</td>\n",
       "      <td>0.021671</td>\n",
       "      <td>1.000000</td>\n",
       "      <td>0.032586</td>\n",
       "      <td>-0.051350</td>\n",
       "      <td>-0.051350</td>\n",
       "    </tr>\n",
       "    <tr>\n",
       "      <th>JP_Sales_cat</th>\n",
       "      <td>-0.317237</td>\n",
       "      <td>0.369554</td>\n",
       "      <td>0.363845</td>\n",
       "      <td>0.936522</td>\n",
       "      <td>0.262010</td>\n",
       "      <td>0.530316</td>\n",
       "      <td>0.032586</td>\n",
       "      <td>1.000000</td>\n",
       "      <td>0.063871</td>\n",
       "      <td>0.063871</td>\n",
       "    </tr>\n",
       "    <tr>\n",
       "      <th>Publisher_nom</th>\n",
       "      <td>-0.018706</td>\n",
       "      <td>0.002891</td>\n",
       "      <td>0.011400</td>\n",
       "      <td>0.051135</td>\n",
       "      <td>0.012898</td>\n",
       "      <td>0.016892</td>\n",
       "      <td>-0.051350</td>\n",
       "      <td>0.063871</td>\n",
       "      <td>1.000000</td>\n",
       "      <td>1.000000</td>\n",
       "    </tr>\n",
       "    <tr>\n",
       "      <th>Publisher_ord</th>\n",
       "      <td>-0.018706</td>\n",
       "      <td>0.002891</td>\n",
       "      <td>0.011400</td>\n",
       "      <td>0.051135</td>\n",
       "      <td>0.012898</td>\n",
       "      <td>0.016892</td>\n",
       "      <td>-0.051350</td>\n",
       "      <td>0.063871</td>\n",
       "      <td>1.000000</td>\n",
       "      <td>1.000000</td>\n",
       "    </tr>\n",
       "  </tbody>\n",
       "</table>\n",
       "</div>"
      ],
      "text/plain": [
       "                     Rank  NA_Sales  EU_Sales  JP_Sales  Other_Sales  \\\n",
       "Rank             1.000000 -0.401362 -0.379123 -0.267785    -0.332986   \n",
       "NA_Sales        -0.401362  1.000000  0.767727  0.449787     0.634737   \n",
       "EU_Sales        -0.379123  0.767727  1.000000  0.435584     0.726385   \n",
       "JP_Sales        -0.267785  0.449787  0.435584  1.000000     0.290186   \n",
       "Other_Sales     -0.332986  0.634737  0.726385  0.290186     1.000000   \n",
       "Global_Sales    -0.427407  0.941047  0.902836  0.611816     0.748331   \n",
       "Genre_cat_codes -0.053018  0.017435  0.016481  0.030085     0.009731   \n",
       "JP_Sales_cat    -0.317237  0.369554  0.363845  0.936522     0.262010   \n",
       "Publisher_nom   -0.018706  0.002891  0.011400  0.051135     0.012898   \n",
       "Publisher_ord   -0.018706  0.002891  0.011400  0.051135     0.012898   \n",
       "\n",
       "                 Global_Sales  Genre_cat_codes  JP_Sales_cat  Publisher_nom  \\\n",
       "Rank                -0.427407        -0.053018     -0.317237      -0.018706   \n",
       "NA_Sales             0.941047         0.017435      0.369554       0.002891   \n",
       "EU_Sales             0.902836         0.016481      0.363845       0.011400   \n",
       "JP_Sales             0.611816         0.030085      0.936522       0.051135   \n",
       "Other_Sales          0.748331         0.009731      0.262010       0.012898   \n",
       "Global_Sales         1.000000         0.021671      0.530316       0.016892   \n",
       "Genre_cat_codes      0.021671         1.000000      0.032586      -0.051350   \n",
       "JP_Sales_cat         0.530316         0.032586      1.000000       0.063871   \n",
       "Publisher_nom        0.016892        -0.051350      0.063871       1.000000   \n",
       "Publisher_ord        0.016892        -0.051350      0.063871       1.000000   \n",
       "\n",
       "                 Publisher_ord  \n",
       "Rank                 -0.018706  \n",
       "NA_Sales              0.002891  \n",
       "EU_Sales              0.011400  \n",
       "JP_Sales              0.051135  \n",
       "Other_Sales           0.012898  \n",
       "Global_Sales          0.016892  \n",
       "Genre_cat_codes      -0.051350  \n",
       "JP_Sales_cat          0.063871  \n",
       "Publisher_nom         1.000000  \n",
       "Publisher_ord         1.000000  "
      ]
     },
     "execution_count": 28,
     "metadata": {},
     "output_type": "execute_result"
    }
   ],
   "source": [
    "df.corr()"
   ]
  },
  {
   "cell_type": "code",
   "execution_count": 29,
   "metadata": {},
   "outputs": [
    {
     "data": {
      "text/html": [
       "<div>\n",
       "<style scoped>\n",
       "    .dataframe tbody tr th:only-of-type {\n",
       "        vertical-align: middle;\n",
       "    }\n",
       "\n",
       "    .dataframe tbody tr th {\n",
       "        vertical-align: top;\n",
       "    }\n",
       "\n",
       "    .dataframe thead th {\n",
       "        text-align: right;\n",
       "    }\n",
       "</style>\n",
       "<table border=\"1\" class=\"dataframe\">\n",
       "  <thead>\n",
       "    <tr style=\"text-align: right;\">\n",
       "      <th></th>\n",
       "      <th>Name</th>\n",
       "      <th>Genre</th>\n",
       "    </tr>\n",
       "    <tr>\n",
       "      <th>Year</th>\n",
       "      <th></th>\n",
       "      <th></th>\n",
       "    </tr>\n",
       "  </thead>\n",
       "  <tbody>\n",
       "    <tr>\n",
       "      <th></th>\n",
       "      <td>Tour de France 2011The History Channel: Great ...</td>\n",
       "      <td>SportsStrategyAdventureShooterActionActionMisc...</td>\n",
       "    </tr>\n",
       "    <tr>\n",
       "      <th>1970.0</th>\n",
       "      <td>TERADanganronpa: Trigger Happy HavocGhostbuste...</td>\n",
       "      <td>Role-PlayingAdventureActionRole-PlayingMiscRac...</td>\n",
       "    </tr>\n",
       "    <tr>\n",
       "      <th>1973.0</th>\n",
       "      <td>Trek73</td>\n",
       "      <td>Simulation</td>\n",
       "    </tr>\n",
       "    <tr>\n",
       "      <th>1975.0</th>\n",
       "      <td>Nintengirls: College Girl &amp; Friends</td>\n",
       "      <td>Simulation</td>\n",
       "    </tr>\n",
       "    <tr>\n",
       "      <th>1977.0</th>\n",
       "      <td>CombatAir-Sea BattleIndy 500Basic MathBlackjac...</td>\n",
       "      <td>ActionShooterRacingMiscMiscActionAdventureSpor...</td>\n",
       "    </tr>\n",
       "  </tbody>\n",
       "</table>\n",
       "</div>"
      ],
      "text/plain": [
       "                                                     Name  \\\n",
       "Year                                                        \n",
       "        Tour de France 2011The History Channel: Great ...   \n",
       "1970.0  TERADanganronpa: Trigger Happy HavocGhostbuste...   \n",
       "1973.0                                             Trek73   \n",
       "1975.0                Nintengirls: College Girl & Friends   \n",
       "1977.0  CombatAir-Sea BattleIndy 500Basic MathBlackjac...   \n",
       "\n",
       "                                                    Genre  \n",
       "Year                                                       \n",
       "        SportsStrategyAdventureShooterActionActionMisc...  \n",
       "1970.0  Role-PlayingAdventureActionRole-PlayingMiscRac...  \n",
       "1973.0                                         Simulation  \n",
       "1975.0                                         Simulation  \n",
       "1977.0  ActionShooterRacingMiscMiscActionAdventureSpor...  "
      ]
     },
     "execution_count": 29,
     "metadata": {},
     "output_type": "execute_result"
    }
   ],
   "source": [
    "df_game1 = df_game.groupby(\"Year\").sum()\n",
    "df_game1.head()"
   ]
  },
  {
   "cell_type": "code",
   "execution_count": 30,
   "metadata": {
    "scrolled": false
   },
   "outputs": [],
   "source": [
    "from sklearn import linear_model\n",
    "line = linear_model.LinearRegression()"
   ]
  },
  {
   "cell_type": "code",
   "execution_count": null,
   "metadata": {},
   "outputs": [],
   "source": []
  },
  {
   "cell_type": "code",
   "execution_count": 31,
   "metadata": {},
   "outputs": [
    {
     "data": {
      "text/plain": [
       "0    357\n",
       "1    212\n",
       "Name: target, dtype: int64"
      ]
     },
     "execution_count": 31,
     "metadata": {},
     "output_type": "execute_result"
    }
   ],
   "source": [
    "import numpy as np  \n",
    "import matplotlib.pyplot as plt  \n",
    "import pandas as pd \n",
    "\n",
    "game = pd.read_csv('vgsales.csv', sep=',', encoding='utf-8')\n",
    "game.head(30)\n",
    "X = game.iloc[:, 6:11].values  \n",
    "y = game.iloc[:, 2].values \n",
    "from sklearn.model_selection import train_test_split\n",
    "X_train, X_test, y_train, y_test = train_test_split(X, y, test_size=0.20)\n",
    "\n",
    "\n",
    "\n",
    "from sklearn.preprocessing import StandardScaler  \n",
    "scaler = StandardScaler()  \n",
    "scaler.fit(X_train)\n",
    "\n",
    "X_train = scaler.transform(X_train)  \n",
    "X_test = scaler.transform(X_test) \n",
    "\n",
    "\n",
    "\n",
    "from sklearn.neighbors import KNeighborsClassifier  \n",
    "classifier = KNeighborsClassifier(n_neighbors=5)  \n",
    "classifier.fit(X_train, y_train)  \n",
    "\n",
    "\n",
    "\n",
    "from sklearn.datasets import load_breast_cancer\n",
    "\n",
    "#load data\n",
    "cancer = load_breast_cancer()\n",
    "#create dataframes from np arrays of cancer Bunch objects\n",
    "y = pd.DataFrame(cancer.target,columns=['target'])\n",
    "X = pd.DataFrame(cancer.data,columns=cancer.feature_names)\n",
    "#concatenate dataframes along columns\n",
    "df = pd.concat([X,y],axis=1)\n",
    "#change malignant cancer being the positive class\n",
    "df['target'].replace([0,1],[1,0],inplace=True)\n",
    "df['target'].value_counts() #check replacement"
   ]
  },
  {
   "cell_type": "code",
   "execution_count": 32,
   "metadata": {},
   "outputs": [
    {
     "name": "stdout",
     "output_type": "stream",
     "text": [
      "<class 'pandas.core.frame.DataFrame'>\n",
      "RangeIndex: 569 entries, 0 to 568\n",
      "Data columns (total 31 columns):\n",
      " #   Column                   Non-Null Count  Dtype  \n",
      "---  ------                   --------------  -----  \n",
      " 0   mean radius              569 non-null    float64\n",
      " 1   mean texture             569 non-null    float64\n",
      " 2   mean perimeter           569 non-null    float64\n",
      " 3   mean area                569 non-null    float64\n",
      " 4   mean smoothness          569 non-null    float64\n",
      " 5   mean compactness         569 non-null    float64\n",
      " 6   mean concavity           569 non-null    float64\n",
      " 7   mean concave points      569 non-null    float64\n",
      " 8   mean symmetry            569 non-null    float64\n",
      " 9   mean fractal dimension   569 non-null    float64\n",
      " 10  radius error             569 non-null    float64\n",
      " 11  texture error            569 non-null    float64\n",
      " 12  perimeter error          569 non-null    float64\n",
      " 13  area error               569 non-null    float64\n",
      " 14  smoothness error         569 non-null    float64\n",
      " 15  compactness error        569 non-null    float64\n",
      " 16  concavity error          569 non-null    float64\n",
      " 17  concave points error     569 non-null    float64\n",
      " 18  symmetry error           569 non-null    float64\n",
      " 19  fractal dimension error  569 non-null    float64\n",
      " 20  worst radius             569 non-null    float64\n",
      " 21  worst texture            569 non-null    float64\n",
      " 22  worst perimeter          569 non-null    float64\n",
      " 23  worst area               569 non-null    float64\n",
      " 24  worst smoothness         569 non-null    float64\n",
      " 25  worst compactness        569 non-null    float64\n",
      " 26  worst concavity          569 non-null    float64\n",
      " 27  worst concave points     569 non-null    float64\n",
      " 28  worst symmetry           569 non-null    float64\n",
      " 29  worst fractal dimension  569 non-null    float64\n",
      " 30  target                   569 non-null    int64  \n",
      "dtypes: float64(30), int64(1)\n",
      "memory usage: 137.9 KB\n"
     ]
    }
   ],
   "source": [
    "df.info()"
   ]
  },
  {
   "cell_type": "code",
   "execution_count": 33,
   "metadata": {},
   "outputs": [
    {
     "data": {
      "text/plain": [
       "<seaborn.axisgrid.PairGrid at 0x7fd83a6d2ad0>"
      ]
     },
     "execution_count": 33,
     "metadata": {},
     "output_type": "execute_result"
    },
    {
     "data": {
      "image/png": "[encoded data removed]",
      "text/plain": [
       "<Figure size 906.375x864 with 20 Axes>"
      ]
     },
     "metadata": {},
     "output_type": "display_data"
    }
   ],
   "source": [
    "sns.pairplot(df.loc[:,'worst concavity':'target'],hue=\"target\",palette=sns.xkcd_palette(['green','red']), height=3)"
   ]
  },
  {
   "cell_type": "code",
   "execution_count": 35,
   "metadata": {},
   "outputs": [
    {
     "name": "stdout",
     "output_type": "stream",
     "text": [
      "[[ 0.52410503  0.13358201 -0.2472117  -0.14269024  0.25316435]\n",
      " [-0.26614598 -0.24377729 -0.2472117  -0.24250274 -0.29746358]\n",
      " [-0.23128196 -0.16830543 -0.02846948 -0.19259649 -0.19957417]\n",
      " ...\n",
      " [ 0.36140629  0.680753    5.78382363  0.45618479  1.60526184]\n",
      " [-0.31263133 -0.28151322 -0.18471392 -0.24250274 -0.32193594]\n",
      " [-0.12668992 -0.09283357 -0.2472117  -0.14269024 -0.15674756]]\n"
     ]
    }
   ],
   "source": [
    "#Impute the values using scikit-learn SimpleImpute Class\n",
    "\n",
    "from sklearn.impute import SimpleImputer\n",
    "imp_mean = SimpleImputer( strategy='most_frequent')\n",
    "imp_mean.fit(X_train)\n",
    "imputed_train_df = imp_mean.transform(X_train)\n",
    "print(imputed_train_df)"
   ]
  },
  {
   "cell_type": "code",
   "execution_count": 36,
   "metadata": {},
   "outputs": [],
   "source": [
    "###Logistic Regression\n",
    "from sklearn.linear_model import LogisticRegression\n",
    "clf = LogisticRegression() #default solver 'lbfgs', L2 penalty, C=1"
   ]
  },
  {
   "cell_type": "code",
   "execution_count": 37,
   "metadata": {},
   "outputs": [],
   "source": [
    "from sklearn.preprocessing import StandardScaler\n",
    "std_scaler = StandardScaler() #zero-mean, unit variance normalization     \n",
    "X_scaled = std_scaler.fit_transform(X)"
   ]
  },
  {
   "cell_type": "code",
   "execution_count": 38,
   "metadata": {},
   "outputs": [
    {
     "data": {
      "text/plain": [
       "0.9876977152899824"
      ]
     },
     "execution_count": 38,
     "metadata": {},
     "output_type": "execute_result"
    }
   ],
   "source": [
    "#flatten the target vector for cv\n",
    "y = y.values.ravel()\n",
    "clf.fit(X_scaled,y) #fit the Logistic Model on our dataset\n",
    "clf.score(X_scaled,y) #accurcy score for training dataset"
   ]
  },
  {
   "cell_type": "code",
   "execution_count": 39,
   "metadata": {},
   "outputs": [
    {
     "name": "stdout",
     "output_type": "stream",
     "text": [
      "Mean cv accuracy score (logit, L2, C=1): 0.9807\n"
     ]
    }
   ],
   "source": [
    "from sklearn.model_selection import cross_val_score\n",
    "sc = cross_val_score(clf, X_scaled, y, cv=5) #default stratified 5-fold cross-validation\n",
    "print(\"Mean cv accuracy score (logit, L2, C=1): {:.4f}\".format(np.mean(sc)))"
   ]
  },
  {
   "cell_type": "code",
   "execution_count": 41,
   "metadata": {},
   "outputs": [
    {
     "data": {
      "image/png": "[encoded data removed]",
      "text/plain": [
       "<Figure size 864x432 with 1 Axes>"
      ]
     },
     "metadata": {},
     "output_type": "display_data"
    }
   ],
   "source": [
    "from sklearn.model_selection import validation_curve\n",
    "c_vals = np.linspace(0.1,15,10) #regularization parameter values\n",
    "train_scores, valid_scores = validation_curve(clf, X_scaled, y,\"C\",c_vals,cv=5)\n",
    "train_scores_mean = np.mean(train_scores, axis=1)\n",
    "valid_scores_mean = np.mean(valid_scores, axis=1)\n",
    "\n",
    "plt.figure(figsize=[12,6])\n",
    "plt.plot(c_vals, train_scores_mean, color='blue', label='training score')\n",
    "plt.plot(c_vals, valid_scores_mean, color='red', label='validation score')\n",
    "plt.legend(loc='best')\n",
    "plt.xlabel('C (model complexity, low->high)')\n",
    "plt.ylabel('score');"
   ]
  },
  {
   "cell_type": "code",
   "execution_count": 42,
   "metadata": {},
   "outputs": [
    {
     "data": {
      "text/plain": [
       "0.9876977152899824"
      ]
     },
     "execution_count": 42,
     "metadata": {},
     "output_type": "execute_result"
    }
   ],
   "source": [
    "clf = LogisticRegression(C=1.8)\n",
    "clf.fit(X_scaled,y) #fit the Logistic Model on our dataset\n",
    "clf.score(X_scaled,y) #accurcy score for training dataset"
   ]
  },
  {
   "cell_type": "code",
   "execution_count": 43,
   "metadata": {},
   "outputs": [
    {
     "name": "stdout",
     "output_type": "stream",
     "text": [
      "Mean cv accuracy score (logit, L2, C=1.8): 0.9772\n"
     ]
    }
   ],
   "source": [
    "sc = cross_val_score(clf, X_scaled, y, cv=5) #default stratified 5-fold cross-validation\n",
    "print(\"Mean cv accuracy score (logit, L2, C=1.8): {:.4f}\".format(np.mean(sc)))"
   ]
  },
  {
   "cell_type": "code",
   "execution_count": null,
   "metadata": {},
   "outputs": [],
   "source": []
  },
  {
   "cell_type": "code",
   "execution_count": 44,
   "metadata": {},
   "outputs": [],
   "source": [
    "from sklearn.neighbors import KNeighborsClassifier  \n",
    "classifier = KNeighborsClassifier(n_neighbors=5)  \n",
    "classifier.fit(X_train, y_train)  \n",
    "\n",
    "\n",
    "y_pred = classifier.predict(X_test)  "
   ]
  },
  {
   "cell_type": "code",
   "execution_count": 45,
   "metadata": {},
   "outputs": [
    {
     "name": "stdout",
     "output_type": "stream",
     "text": [
      "[[ 24   0   0   0   0   0   0   0   0   0   0   0   1   0   0   0   0   0\n",
      "    0   0   0   0   0   0   0   0   0]\n",
      " [  0   0   0   0   1   0   0   0   0   0   0   0   0   0   0   0   0   0\n",
      "    0   0   0   0   0   0   0   0   0]\n",
      " [  0   0  10   3  38   1   5   0   0   0   1   0   6   4  10   1   2   5\n",
      "    0   0   2   0   8   4   5   0   2]\n",
      " [  0   0   2   0   3   0   0   1   0   0   0   0   0   0   0   0   0   1\n",
      "    0   0   1   0   0   0   0   0   0]\n",
      " [  2   0  16   7 227   0   6   3   0   2   0   0  16   4  18   5   1  20\n",
      "    0   0   2   0  51   0  26   7   4]\n",
      " [  0   0   3   0   2   0   3   2   0   2   4   0   0   0   3   0   0   1\n",
      "    0   0   2   0   0   0   0   1   0]\n",
      " [  0   0   3   0  10   3 127   5   0   2   1   0   0   3   2   0   0   1\n",
      "    0   0   0   0   0   0   0  17   0]\n",
      " [  0   0   2   1   4   2   9  58   0   5   0   0   0   1   0   0   0   1\n",
      "    0   0   0   0   0   0   0  32   0]\n",
      " [  0   0   2   1   2   1   0   0   0   0   0   0   0   0   1   0   0   0\n",
      "    0   0   0   0   0   0   0   1   0]\n",
      " [  4   0   2   0   3   1   3  18   0  31   0   0   1   3   0   0   0   0\n",
      "    0   0   0   0   0   0   0   7   0]\n",
      " [  0   0   2   0   1   2   0   1   0   1   4   0   0   0   1   0   0   0\n",
      "    0   1   0   0   0   0   0   0   0]\n",
      " [  0   0   0   0   0   0   0   0   0   0   0   0   0   0   0   0   0   1\n",
      "    0   0   0   0   0   0   0   0   0]\n",
      " [  2   0   4   0  26   0   4   1   0   1   0   0 116   6  13  10   1   0\n",
      "    0   0   0   0   2   0   3   0   2]\n",
      " [  0   0   9   1   7   1  11   0   0   0   0   0   1 172  13   1   0   1\n",
      "    0   0   2   0   0   0   0   2   0]\n",
      " [  0   0   9   5  59   2   2   0   1   0   1   0   2  16 318  12   1   7\n",
      "    0   1   6   0   1   1   6   0   1]\n",
      " [  0   0  11   5  58   0   0   0   0   0   0   0  18   7  19 114   6   6\n",
      "    3   0   1   0   8   0   7   0   1]\n",
      " [  0   0   0   1  10   0   0   0   0   0   0   0   7   0   6  23   8   3\n",
      "    1   0   0   0   2   0   1   0   0]\n",
      " [  0   0  16  10 109   1   2   1   0   0   0   0   3   0  18  17   3  48\n",
      "    1   2   4   0   7   0   4   1   0]\n",
      " [  0   0   5   7  44   0   1   0   0   0   0   0   2   0   8  12   2  10\n",
      "    4   0   0   0   0   0   0   0   0]\n",
      " [  0   0   2   2  12   0   0   0   0   0   0   0   0   1  10   0   0   2\n",
      "    0   2   3   0   0   0   0   0   0]\n",
      " [  0   0   2   2   8   2   1   2   0   2   1   0   0   0   4   0   0   2\n",
      "    0   3   5   0   0   0   0   0   0]\n",
      " [  0   0   0   0   1   1   0   0   0   0   0   0   0   0   0   0   0   0\n",
      "    0   1   0   0   0   0   0   0   0]\n",
      " [  0   0   7   0 132   3   4   1   0   0   1   0   6   2   9   5   1  10\n",
      "    0   0   2   0  35   0  45   2   1]\n",
      " [  0   0   2   0   7   0   0   0   0   0   0   0   2   6   4   0   0   0\n",
      "    0   0   0   0   0   2   1   0   0]\n",
      " [  1   0   7   0  88   0   3   0   0   0   0   0  17   9   6   6   0   8\n",
      "    0   0   0   0  41   2  63   1   5]\n",
      " [  2   0   0   1   7   0  23  29   0   5   0   0   0   4   0   0   0   0\n",
      "    0   0   0   0   0   0   2  93   0]\n",
      " [  0   0   2   0   7   0   3   0   0   0   0   0   3   1   2   1   0   1\n",
      "    0   0   0   0   2   2  12   0   4]]\n",
      "              precision    recall  f1-score   support\n",
      "\n",
      "        2600       0.69      0.96      0.80        25\n",
      "         3DO       0.00      0.00      0.00         1\n",
      "         3DS       0.08      0.09      0.09       107\n",
      "          DC       0.00      0.00      0.00         8\n",
      "          DS       0.26      0.54      0.35       417\n",
      "          GB       0.00      0.00      0.00        23\n",
      "         GBA       0.61      0.73      0.67       174\n",
      "          GC       0.48      0.50      0.49       115\n",
      "         GEN       0.00      0.00      0.00         8\n",
      "         N64       0.61      0.42      0.50        73\n",
      "         NES       0.31      0.31      0.31        13\n",
      "          NG       0.00      0.00      0.00         1\n",
      "          PC       0.58      0.61      0.59       191\n",
      "          PS       0.72      0.78      0.75       221\n",
      "         PS2       0.68      0.71      0.69       451\n",
      "         PS3       0.55      0.43      0.48       264\n",
      "         PS4       0.32      0.13      0.18        62\n",
      "         PSP       0.38      0.19      0.26       247\n",
      "         PSV       0.44      0.04      0.08        95\n",
      "         SAT       0.20      0.06      0.09        34\n",
      "        SNES       0.17      0.15      0.16        34\n",
      "          WS       0.00      0.00      0.00         3\n",
      "         Wii       0.22      0.13      0.17       266\n",
      "        WiiU       0.18      0.08      0.11        24\n",
      "        X360       0.36      0.25      0.29       257\n",
      "          XB       0.57      0.56      0.56       166\n",
      "        XOne       0.20      0.10      0.13        40\n",
      "\n",
      "    accuracy                           0.44      3320\n",
      "   macro avg       0.32      0.29      0.29      3320\n",
      "weighted avg       0.45      0.44      0.43      3320\n",
      "\n"
     ]
    },
    {
     "name": "stderr",
     "output_type": "stream",
     "text": [
      "/home/rituraj/anaconda3/lib/python3.7/site-packages/sklearn/metrics/_classification.py:1272: UndefinedMetricWarning: Precision and F-score are ill-defined and being set to 0.0 in labels with no predicted samples. Use `zero_division` parameter to control this behavior.\n",
      "  _warn_prf(average, modifier, msg_start, len(result))\n"
     ]
    }
   ],
   "source": [
    "from sklearn.metrics import classification_report, confusion_matrix  \n",
    "print(confusion_matrix(y_test, y_pred))  \n",
    "print(classification_report(y_test, y_pred))  "
   ]
  },
  {
   "cell_type": "code",
   "execution_count": 46,
   "metadata": {},
   "outputs": [],
   "source": [
    "\n",
    "error = []\n",
    "\n",
    "\n",
    "for i in range(1, 40):  \n",
    "    knn = KNeighborsClassifier(n_neighbors=i)\n",
    "    knn.fit(X_train, y_train)\n",
    "    pred_i = knn.predict(X_test)\n",
    "    error.append(np.mean(pred_i != y_test))\n",
    "\n"
   ]
  },
  {
   "cell_type": "code",
   "execution_count": 47,
   "metadata": {},
   "outputs": [
    {
     "data": {
      "text/plain": [
       "Text(0, 0.5, 'Global_sales')"
      ]
     },
     "execution_count": 47,
     "metadata": {},
     "output_type": "execute_result"
    },
    {
     "data": {
      "image/png": "[encoded data removed]",
      "text/plain": [
       "<Figure size 864x432 with 1 Axes>"
      ]
     },
     "metadata": {},
     "output_type": "display_data"
    }
   ],
   "source": [
    "plt.figure(figsize=(12, 6))  \n",
    "plt.plot(range(1, 40), error, color='red', linestyle='dashed', marker='o',  \n",
    "         markerfacecolor='blue', markersize=10)\n",
    "plt.title('Data Visualization')  \n",
    "plt.xlabel('Crictic_Score')  \n",
    "plt.ylabel('Global_sales')  "
   ]
  },
  {
   "cell_type": "code",
   "execution_count": 48,
   "metadata": {},
   "outputs": [],
   "source": [
    "## Importing Data Visualization packages\n",
    "import matplotlib.pyplot as plt\n",
    "import pylab as pl\n",
    "import seaborn as sns\n",
    "%matplotlib inline"
   ]
  },
  {
   "cell_type": "code",
   "execution_count": 49,
   "metadata": {},
   "outputs": [
    {
     "data": {
      "text/html": [
       "<div>\n",
       "<style scoped>\n",
       "    .dataframe tbody tr th:only-of-type {\n",
       "        vertical-align: middle;\n",
       "    }\n",
       "\n",
       "    .dataframe tbody tr th {\n",
       "        vertical-align: top;\n",
       "    }\n",
       "\n",
       "    .dataframe thead th {\n",
       "        text-align: right;\n",
       "    }\n",
       "</style>\n",
       "<table border=\"1\" class=\"dataframe\">\n",
       "  <thead>\n",
       "    <tr style=\"text-align: right;\">\n",
       "      <th></th>\n",
       "      <th>Name</th>\n",
       "      <th>Year</th>\n",
       "    </tr>\n",
       "    <tr>\n",
       "      <th>Genre</th>\n",
       "      <th></th>\n",
       "      <th></th>\n",
       "    </tr>\n",
       "  </thead>\n",
       "  <tbody>\n",
       "    <tr>\n",
       "      <th>Action</th>\n",
       "      <td>Grand Theft Auto VGrand Theft Auto VGrand Thef...</td>\n",
       "      <td>2013.02014.02004.02002.02013.02001.02015.02008...</td>\n",
       "    </tr>\n",
       "    <tr>\n",
       "      <th>Action-Adventure</th>\n",
       "      <td>Red Dead Redemption 2The Legend of Zelda: Brea...</td>\n",
       "      <td>2018.02017.02018.02018.02012.02013.02018.02011...</td>\n",
       "    </tr>\n",
       "    <tr>\n",
       "      <th>Adventure</th>\n",
       "      <td>The Legend of Zelda: Ocarina of TimeThe Legend...</td>\n",
       "      <td>1998.02006.01987.01995.02013.01997.02007.01992...</td>\n",
       "    </tr>\n",
       "    <tr>\n",
       "      <th>Board Game</th>\n",
       "      <td>Monopoly for Nintendo SwitchBillion RoadCarcas...</td>\n",
       "      <td>2017.02018.02018.02019.02017.02019.02018.02018...</td>\n",
       "    </tr>\n",
       "    <tr>\n",
       "      <th>Education</th>\n",
       "      <td>It's Spring AgainInfluentBrain Age: Concentrat...</td>\n",
       "      <td>2007.02014.02013.01994.02001.01995.01994.01996...</td>\n",
       "    </tr>\n",
       "  </tbody>\n",
       "</table>\n",
       "</div>"
      ],
      "text/plain": [
       "                                                               Name  \\\n",
       "Genre                                                                 \n",
       "Action            Grand Theft Auto VGrand Theft Auto VGrand Thef...   \n",
       "Action-Adventure  Red Dead Redemption 2The Legend of Zelda: Brea...   \n",
       "Adventure         The Legend of Zelda: Ocarina of TimeThe Legend...   \n",
       "Board Game        Monopoly for Nintendo SwitchBillion RoadCarcas...   \n",
       "Education         It's Spring AgainInfluentBrain Age: Concentrat...   \n",
       "\n",
       "                                                               Year  \n",
       "Genre                                                                \n",
       "Action            2013.02014.02004.02002.02013.02001.02015.02008...  \n",
       "Action-Adventure  2018.02017.02018.02018.02012.02013.02018.02011...  \n",
       "Adventure         1998.02006.01987.01995.02013.01997.02007.01992...  \n",
       "Board Game        2017.02018.02018.02019.02017.02019.02018.02018...  \n",
       "Education         2007.02014.02013.01994.02001.01995.01994.01996...  "
      ]
     },
     "execution_count": 49,
     "metadata": {},
     "output_type": "execute_result"
    }
   ],
   "source": [
    "df_game_ = df_game.groupby(\"Genre\").sum()\n",
    "df_game_.head()"
   ]
  },
  {
   "cell_type": "code",
   "execution_count": 50,
   "metadata": {},
   "outputs": [
    {
     "data": {
      "text/plain": [
       "0.9420035149384886"
      ]
     },
     "execution_count": 50,
     "metadata": {},
     "output_type": "execute_result"
    }
   ],
   "source": [
    "from sklearn.naive_bayes import GaussianNB\n",
    "gnb = GaussianNB()\n",
    "gnb.fit(X,y)\n",
    "gnb.score(X,y)"
   ]
  },
  {
   "cell_type": "code",
   "execution_count": 51,
   "metadata": {},
   "outputs": [
    {
     "name": "stdout",
     "output_type": "stream",
     "text": [
      "Mean cv accuracy score (GaussianNB): 0.9385\n"
     ]
    }
   ],
   "source": [
    "sc = cross_val_score(gnb, X, y, cv=5)\n",
    "print(\"Mean cv accuracy score (GaussianNB): {:.4f}\".format(np.mean(sc)))"
   ]
  },
  {
   "cell_type": "code",
   "execution_count": 52,
   "metadata": {},
   "outputs": [
    {
     "data": {
      "text/plain": [
       "0      4\n",
       "1      4\n",
       "2      4\n",
       "3      1\n",
       "4      4\n",
       "      ..\n",
       "564    4\n",
       "565    4\n",
       "566    3\n",
       "567    4\n",
       "568    0\n",
       "Name: mean radius, Length: 569, dtype: category\n",
       "Categories (5, int64): [0 < 1 < 2 < 3 < 4]"
      ]
     },
     "execution_count": 52,
     "metadata": {},
     "output_type": "execute_result"
    }
   ],
   "source": [
    "#quantile binning for one feature\n",
    "pd.qcut(df['mean radius'], 5, labels=list(range(5)))"
   ]
  },
  {
   "cell_type": "code",
   "execution_count": 53,
   "metadata": {},
   "outputs": [],
   "source": [
    "#apply for all features\n",
    "df_q = pd.DataFrame()\n",
    "for col in df.loc[:,'mean radius':'worst fractal dimension']:\n",
    "    df_q[col] = pd.qcut(df[col], 5, labels=list(range(5)))"
   ]
  },
  {
   "cell_type": "code",
   "execution_count": 54,
   "metadata": {},
   "outputs": [
    {
     "data": {
      "text/html": [
       "<div>\n",
       "<style scoped>\n",
       "    .dataframe tbody tr th:only-of-type {\n",
       "        vertical-align: middle;\n",
       "    }\n",
       "\n",
       "    .dataframe tbody tr th {\n",
       "        vertical-align: top;\n",
       "    }\n",
       "\n",
       "    .dataframe thead th {\n",
       "        text-align: right;\n",
       "    }\n",
       "</style>\n",
       "<table border=\"1\" class=\"dataframe\">\n",
       "  <thead>\n",
       "    <tr style=\"text-align: right;\">\n",
       "      <th></th>\n",
       "      <th>target</th>\n",
       "      <th>mean radius</th>\n",
       "      <th>mean texture</th>\n",
       "      <th>mean perimeter</th>\n",
       "      <th>mean area</th>\n",
       "      <th>mean smoothness</th>\n",
       "      <th>mean compactness</th>\n",
       "      <th>mean concavity</th>\n",
       "      <th>mean concave points</th>\n",
       "      <th>mean symmetry</th>\n",
       "      <th>...</th>\n",
       "      <th>worst radius</th>\n",
       "      <th>worst texture</th>\n",
       "      <th>worst perimeter</th>\n",
       "      <th>worst area</th>\n",
       "      <th>worst smoothness</th>\n",
       "      <th>worst compactness</th>\n",
       "      <th>worst concavity</th>\n",
       "      <th>worst concave points</th>\n",
       "      <th>worst symmetry</th>\n",
       "      <th>worst fractal dimension</th>\n",
       "    </tr>\n",
       "  </thead>\n",
       "  <tbody>\n",
       "    <tr>\n",
       "      <th>0</th>\n",
       "      <td>1</td>\n",
       "      <td>4</td>\n",
       "      <td>0</td>\n",
       "      <td>4</td>\n",
       "      <td>4</td>\n",
       "      <td>4</td>\n",
       "      <td>4</td>\n",
       "      <td>4</td>\n",
       "      <td>4</td>\n",
       "      <td>4</td>\n",
       "      <td>...</td>\n",
       "      <td>4</td>\n",
       "      <td>0</td>\n",
       "      <td>4</td>\n",
       "      <td>4</td>\n",
       "      <td>4</td>\n",
       "      <td>4</td>\n",
       "      <td>4</td>\n",
       "      <td>4</td>\n",
       "      <td>4</td>\n",
       "      <td>4</td>\n",
       "    </tr>\n",
       "    <tr>\n",
       "      <th>1</th>\n",
       "      <td>1</td>\n",
       "      <td>4</td>\n",
       "      <td>1</td>\n",
       "      <td>4</td>\n",
       "      <td>4</td>\n",
       "      <td>1</td>\n",
       "      <td>1</td>\n",
       "      <td>3</td>\n",
       "      <td>3</td>\n",
       "      <td>2</td>\n",
       "      <td>...</td>\n",
       "      <td>4</td>\n",
       "      <td>1</td>\n",
       "      <td>4</td>\n",
       "      <td>4</td>\n",
       "      <td>1</td>\n",
       "      <td>2</td>\n",
       "      <td>2</td>\n",
       "      <td>4</td>\n",
       "      <td>2</td>\n",
       "      <td>3</td>\n",
       "    </tr>\n",
       "    <tr>\n",
       "      <th>2</th>\n",
       "      <td>1</td>\n",
       "      <td>4</td>\n",
       "      <td>3</td>\n",
       "      <td>4</td>\n",
       "      <td>4</td>\n",
       "      <td>4</td>\n",
       "      <td>4</td>\n",
       "      <td>4</td>\n",
       "      <td>4</td>\n",
       "      <td>4</td>\n",
       "      <td>...</td>\n",
       "      <td>4</td>\n",
       "      <td>2</td>\n",
       "      <td>4</td>\n",
       "      <td>4</td>\n",
       "      <td>3</td>\n",
       "      <td>4</td>\n",
       "      <td>4</td>\n",
       "      <td>4</td>\n",
       "      <td>4</td>\n",
       "      <td>3</td>\n",
       "    </tr>\n",
       "    <tr>\n",
       "      <th>3</th>\n",
       "      <td>1</td>\n",
       "      <td>1</td>\n",
       "      <td>3</td>\n",
       "      <td>1</td>\n",
       "      <td>0</td>\n",
       "      <td>4</td>\n",
       "      <td>4</td>\n",
       "      <td>4</td>\n",
       "      <td>4</td>\n",
       "      <td>4</td>\n",
       "      <td>...</td>\n",
       "      <td>2</td>\n",
       "      <td>2</td>\n",
       "      <td>2</td>\n",
       "      <td>1</td>\n",
       "      <td>4</td>\n",
       "      <td>4</td>\n",
       "      <td>4</td>\n",
       "      <td>4</td>\n",
       "      <td>4</td>\n",
       "      <td>4</td>\n",
       "    </tr>\n",
       "    <tr>\n",
       "      <th>4</th>\n",
       "      <td>1</td>\n",
       "      <td>4</td>\n",
       "      <td>0</td>\n",
       "      <td>4</td>\n",
       "      <td>4</td>\n",
       "      <td>3</td>\n",
       "      <td>3</td>\n",
       "      <td>4</td>\n",
       "      <td>4</td>\n",
       "      <td>2</td>\n",
       "      <td>...</td>\n",
       "      <td>4</td>\n",
       "      <td>0</td>\n",
       "      <td>4</td>\n",
       "      <td>4</td>\n",
       "      <td>2</td>\n",
       "      <td>2</td>\n",
       "      <td>3</td>\n",
       "      <td>3</td>\n",
       "      <td>0</td>\n",
       "      <td>1</td>\n",
       "    </tr>\n",
       "  </tbody>\n",
       "</table>\n",
       "<p>5 rows × 31 columns</p>\n",
       "</div>"
      ],
      "text/plain": [
       "   target mean radius mean texture mean perimeter mean area mean smoothness  \\\n",
       "0       1           4            0              4         4               4   \n",
       "1       1           4            1              4         4               1   \n",
       "2       1           4            3              4         4               4   \n",
       "3       1           1            3              1         0               4   \n",
       "4       1           4            0              4         4               3   \n",
       "\n",
       "  mean compactness mean concavity mean concave points mean symmetry  ...  \\\n",
       "0                4              4                   4             4  ...   \n",
       "1                1              3                   3             2  ...   \n",
       "2                4              4                   4             4  ...   \n",
       "3                4              4                   4             4  ...   \n",
       "4                3              4                   4             2  ...   \n",
       "\n",
       "  worst radius worst texture worst perimeter worst area worst smoothness  \\\n",
       "0            4             0               4          4                4   \n",
       "1            4             1               4          4                1   \n",
       "2            4             2               4          4                3   \n",
       "3            2             2               2          1                4   \n",
       "4            4             0               4          4                2   \n",
       "\n",
       "  worst compactness worst concavity worst concave points worst symmetry  \\\n",
       "0                 4               4                    4              4   \n",
       "1                 2               2                    4              2   \n",
       "2                 4               4                    4              4   \n",
       "3                 4               4                    4              4   \n",
       "4                 2               3                    3              0   \n",
       "\n",
       "  worst fractal dimension  \n",
       "0                       4  \n",
       "1                       3  \n",
       "2                       3  \n",
       "3                       4  \n",
       "4                       1  \n",
       "\n",
       "[5 rows x 31 columns]"
      ]
     },
     "execution_count": 54,
     "metadata": {},
     "output_type": "execute_result"
    }
   ],
   "source": [
    "df_q=pd.concat([df.target,df_q],axis=1)\n",
    "df_q.head()"
   ]
  },
  {
   "cell_type": "code",
   "execution_count": 55,
   "metadata": {},
   "outputs": [
    {
     "data": {
      "text/plain": [
       "0.8963093145869947"
      ]
     },
     "execution_count": 55,
     "metadata": {},
     "output_type": "execute_result"
    }
   ],
   "source": [
    "from sklearn.naive_bayes import MultinomialNB\n",
    "gnb = MultinomialNB()\n",
    "gnb.fit(X,y)\n",
    "gnb.score(X,y)"
   ]
  },
  {
   "cell_type": "code",
   "execution_count": 56,
   "metadata": {},
   "outputs": [
    {
     "name": "stdout",
     "output_type": "stream",
     "text": [
      "Mean cv accuracy score (MultinomialNB): 0.8963\n"
     ]
    }
   ],
   "source": [
    "sc = cross_val_score(gnb, X, y, cv=5)\n",
    "print(\"Mean cv accuracy score (MultinomialNB): {:.4f}\".format(np.mean(sc)))"
   ]
  },
  {
   "cell_type": "code",
   "execution_count": null,
   "metadata": {},
   "outputs": [],
   "source": []
  },
  {
   "cell_type": "code",
   "execution_count": 57,
   "metadata": {},
   "outputs": [
    {
     "name": "stdout",
     "output_type": "stream",
     "text": [
      ".. _iris_dataset:\n",
      "\n",
      "Iris plants dataset\n",
      "--------------------\n",
      "\n",
      "**Data Set Characteristics:**\n",
      "\n",
      "    :Number of Instances: 150 (50 in each of three classes)\n",
      "    :Number of Attributes: 4 numeric, predictive attributes and the class\n",
      "    :Attribute Information:\n",
      "        - sepal length in cm\n",
      "        - sepal width in cm\n",
      "        - petal length in cm\n",
      "        - petal width in cm\n",
      "        - class:\n",
      "                - Iris-Setosa\n",
      "                - Iris-Versicolour\n",
      "                - Iris-Virginica\n",
      "                \n",
      "    :Summary Statistics:\n",
      "\n",
      "    ============== ==== ==== ======= ===== ====================\n",
      "                    Min  Max   Mean    SD   Class Correlation\n",
      "    ============== ==== ==== ======= ===== ====================\n",
      "    sepal length:   4.3  7.9   5.84   0.83    0.7826\n",
      "    sepal width:    2.0  4.4   3.05   0.43   -0.4194\n",
      "    petal length:   1.0  6.9   3.76   1.76    0.9490  (high!)\n",
      "    petal width:    0.1  2.5   1.20   0.76    0.9565  (high!)\n",
      "    ============== ==== ==== ======= ===== ====================\n",
      "\n",
      "    :Missing Attribute Values: None\n",
      "    :Class Distribution: 33.3% for each of 3 classes.\n",
      "    :Creator: R.A. Fisher\n",
      "    :Donor: Michael Marshall (MARSHALL%PLU@io.arc.nasa.gov)\n",
      "    :Date: July, 1988\n",
      "\n",
      "The famous Iris database, first used by Sir R.A. Fisher. The dataset is taken\n",
      "from Fisher's paper. Note that it's the same as in R, but not as in the UCI\n",
      "Machine Learning Repository, which has two wrong data points.\n",
      "\n",
      "This is perhaps the best known database to be found in the\n",
      "pattern recognition literature.  Fisher's paper is a classic in the field and\n",
      "is referenced frequently to this day.  (See Duda & Hart, for example.)  The\n",
      "data set contains 3 classes of 50 instances each, where each class refers to a\n",
      "type of iris plant.  One class is linearly separable from the other 2; the\n",
      "latter are NOT linearly separable from each other.\n",
      "\n",
      ".. topic:: References\n",
      "\n",
      "   - Fisher, R.A. \"The use of multiple measurements in taxonomic problems\"\n",
      "     Annual Eugenics, 7, Part II, 179-188 (1936); also in \"Contributions to\n",
      "     Mathematical Statistics\" (John Wiley, NY, 1950).\n",
      "   - Duda, R.O., & Hart, P.E. (1973) Pattern Classification and Scene Analysis.\n",
      "     (Q327.D83) John Wiley & Sons.  ISBN 0-471-22361-1.  See page 218.\n",
      "   - Dasarathy, B.V. (1980) \"Nosing Around the Neighborhood: A New System\n",
      "     Structure and Classification Rule for Recognition in Partially Exposed\n",
      "     Environments\".  IEEE Transactions on Pattern Analysis and Machine\n",
      "     Intelligence, Vol. PAMI-2, No. 1, 67-71.\n",
      "   - Gates, G.W. (1972) \"The Reduced Nearest Neighbor Rule\".  IEEE Transactions\n",
      "     on Information Theory, May 1972, 431-433.\n",
      "   - See also: 1988 MLC Proceedings, 54-64.  Cheeseman et al\"s AUTOCLASS II\n",
      "     conceptual clustering system finds 3 classes in the data.\n",
      "   - Many, many more ...\n"
     ]
    }
   ],
   "source": [
    "#load multi-class Iris plants classification dataset\n",
    "from sklearn.datasets import load_iris\n",
    "md = load_iris()\n",
    "print(md.DESCR)"
   ]
  },
  {
   "cell_type": "code",
   "execution_count": 58,
   "metadata": {},
   "outputs": [
    {
     "data": {
      "text/plain": [
       "(3, 4)"
      ]
     },
     "execution_count": 58,
     "metadata": {},
     "output_type": "execute_result"
    }
   ],
   "source": [
    "clf = LogisticRegression(multi_class='ovr',solver='liblinear').fit(md.data,md.target) #force binary classifier\n",
    "clf.coef_.shape"
   ]
  },
  {
   "cell_type": "code",
   "execution_count": 59,
   "metadata": {},
   "outputs": [
    {
     "name": "stdout",
     "output_type": "stream",
     "text": [
      "Mean cv accuracy score (one-vs.-rest, LogisticRegression): 0.96\n"
     ]
    }
   ],
   "source": [
    "sc = cross_val_score(clf, md.data, md.target, cv=5)\n",
    "print(\"Mean cv accuracy score (one-vs.-rest, LogisticRegression): {:.2f}\".format(np.mean(sc)))"
   ]
  },
  {
   "cell_type": "code",
   "execution_count": 60,
   "metadata": {},
   "outputs": [
    {
     "data": {
      "text/plain": [
       "(3, 4)"
      ]
     },
     "execution_count": 60,
     "metadata": {},
     "output_type": "execute_result"
    }
   ],
   "source": [
    "clf = LogisticRegression(multi_class='multinomial',solver='newton-cg').fit(md.data,md.target)\n",
    "clf.coef_.shape"
   ]
  },
  {
   "cell_type": "code",
   "execution_count": 61,
   "metadata": {},
   "outputs": [
    {
     "name": "stdout",
     "output_type": "stream",
     "text": [
      "Mean cv accuracy score (Multinomial LogisticRegression): 0.97\n"
     ]
    }
   ],
   "source": [
    "sc = cross_val_score(clf, md.data, md.target, cv=5)\n",
    "print(\"Mean cv accuracy score (Multinomial LogisticRegression): {:.2f}\".format(np.mean(sc)))"
   ]
  },
  {
   "cell_type": "code",
   "execution_count": 62,
   "metadata": {},
   "outputs": [
    {
     "data": {
      "text/plain": [
       "0.96"
      ]
     },
     "execution_count": 62,
     "metadata": {},
     "output_type": "execute_result"
    }
   ],
   "source": [
    "from sklearn.neighbors import KNeighborsClassifier\n",
    "\n",
    "kn = KNeighborsClassifier(n_neighbors=3)\n",
    "kn.fit(md.data,md.target)\n",
    "kn.score(md.data,md.target)"
   ]
  },
  {
   "cell_type": "code",
   "execution_count": 63,
   "metadata": {},
   "outputs": [
    {
     "data": {
      "text/plain": [
       "array([0, 1, 2])"
      ]
     },
     "execution_count": 63,
     "metadata": {},
     "output_type": "execute_result"
    }
   ],
   "source": [
    "kn.classes_"
   ]
  },
  {
   "cell_type": "code",
   "execution_count": 64,
   "metadata": {},
   "outputs": [
    {
     "name": "stdout",
     "output_type": "stream",
     "text": [
      "Mean cv accuracy score (kNN=3,multi-class): 0.97\n"
     ]
    }
   ],
   "source": [
    "sc = cross_val_score(clf, md.data, md.target, cv=5)\n",
    "print(\"Mean cv accuracy score (kNN=3,multi-class): {:.2f}\".format(np.mean(sc)))"
   ]
  },
  {
   "cell_type": "code",
   "execution_count": 65,
   "metadata": {},
   "outputs": [
    {
     "data": {
      "text/plain": [
       "0.94"
      ]
     },
     "execution_count": 65,
     "metadata": {},
     "output_type": "execute_result"
    }
   ],
   "source": [
    "from sklearn.multiclass import OneVsRestClassifier\n",
    "nb = OneVsRestClassifier(GaussianNB())\n",
    "nb.fit(md.data,md.target)\n",
    "nb.score(md.data,md.target)"
   ]
  },
  {
   "cell_type": "code",
   "execution_count": 66,
   "metadata": {},
   "outputs": [
    {
     "data": {
      "text/plain": [
       "(array([0, 1, 2]),\n",
       " [GaussianNB(priors=None, var_smoothing=1e-09),\n",
       "  GaussianNB(priors=None, var_smoothing=1e-09),\n",
       "  GaussianNB(priors=None, var_smoothing=1e-09)])"
      ]
     },
     "execution_count": 66,
     "metadata": {},
     "output_type": "execute_result"
    }
   ],
   "source": [
    "nb.classes_,nb.estimators_"
   ]
  },
  {
   "cell_type": "code",
   "execution_count": 67,
   "metadata": {},
   "outputs": [
    {
     "name": "stdout",
     "output_type": "stream",
     "text": [
      "Mean cv accuracy score (GaussianNB,multi-class): 0.94\n"
     ]
    }
   ],
   "source": [
    "sc = cross_val_score(nb, md.data, md.target, cv=5)\n",
    "print(\"Mean cv accuracy score (GaussianNB,multi-class): {:.2f}\".format(np.mean(sc)))"
   ]
  },
  {
   "cell_type": "code",
   "execution_count": 70,
   "metadata": {},
   "outputs": [],
   "source": [
    "cc = pd.read_csv('/home/rituraj/Downloads/Project_001/vgsales.csv')"
   ]
  },
  {
   "cell_type": "code",
   "execution_count": 71,
   "metadata": {},
   "outputs": [
    {
     "name": "stdout",
     "output_type": "stream",
     "text": [
      "<class 'pandas.core.frame.DataFrame'>\n",
      "RangeIndex: 16598 entries, 0 to 16597\n",
      "Data columns (total 11 columns):\n",
      " #   Column        Non-Null Count  Dtype  \n",
      "---  ------        --------------  -----  \n",
      " 0   Rank          16598 non-null  int64  \n",
      " 1   Name          16598 non-null  object \n",
      " 2   Platform      16598 non-null  object \n",
      " 3   Year          16327 non-null  float64\n",
      " 4   Genre         16598 non-null  object \n",
      " 5   Publisher     16540 non-null  object \n",
      " 6   NA_Sales      16598 non-null  float64\n",
      " 7   EU_Sales      16598 non-null  float64\n",
      " 8   JP_Sales      16598 non-null  float64\n",
      " 9   Other_Sales   16598 non-null  float64\n",
      " 10  Global_Sales  16598 non-null  float64\n",
      "dtypes: float64(6), int64(1), object(4)\n",
      "memory usage: 1.4+ MB\n"
     ]
    }
   ],
   "source": [
    "cc.info()"
   ]
  },
  {
   "cell_type": "code",
   "execution_count": 72,
   "metadata": {},
   "outputs": [],
   "source": [
    "for col in cc.columns:\n",
    "    if(cc[col].dtype == 'object'):\n",
    "        cc[col]= cc[col].astype('category') #transform object data type to categorical\n",
    "        cc[col] = cc[col].cat.codes #assign numeric codes for each category within column"
   ]
  },
  {
   "cell_type": "code",
   "execution_count": 73,
   "metadata": {},
   "outputs": [
    {
     "data": {
      "text/plain": [
       "0.02     1071\n",
       "0.03      811\n",
       "0.04      645\n",
       "0.05      632\n",
       "0.01      618\n",
       "         ... \n",
       "9.09        1\n",
       "12.27       1\n",
       "16.38       1\n",
       "20.22       1\n",
       "22.00       1\n",
       "Name: Global_Sales, Length: 623, dtype: int64"
      ]
     },
     "execution_count": 73,
     "metadata": {},
     "output_type": "execute_result"
    }
   ],
   "source": [
    "cc.Global_Sales.value_counts() #imbalanced dataset"
   ]
  },
  {
   "cell_type": "code",
   "execution_count": 74,
   "metadata": {},
   "outputs": [],
   "source": [
    "from sklearn.preprocessing import LabelEncoder\n",
    "from sklearn.model_selection import train_test_split\n",
    "from sklearn.ensemble import RandomForestClassifier\n",
    "from sklearn.calibration import CalibratedClassifierCV\n",
    "from sklearn.model_selection import GridSearchCV\n",
    "from sklearn.model_selection import StratifiedKFold\n",
    "from sklearn.feature_selection import SelectFromModel\n",
    "from sklearn.linear_model import LogisticRegression\n",
    "from sklearn.metrics import classification_report, f1_score, accuracy_score, confusion_matrix\n",
    "from sklearn import svm"
   ]
  },
  {
   "cell_type": "code",
   "execution_count": 75,
   "metadata": {},
   "outputs": [],
   "source": [
    "from pandas import get_dummies\n",
    "df_copy = pd.get_dummies(df)"
   ]
  },
  {
   "cell_type": "code",
   "execution_count": 76,
   "metadata": {},
   "outputs": [
    {
     "data": {
      "text/html": [
       "<div>\n",
       "<style scoped>\n",
       "    .dataframe tbody tr th:only-of-type {\n",
       "        vertical-align: middle;\n",
       "    }\n",
       "\n",
       "    .dataframe tbody tr th {\n",
       "        vertical-align: top;\n",
       "    }\n",
       "\n",
       "    .dataframe thead th {\n",
       "        text-align: right;\n",
       "    }\n",
       "</style>\n",
       "<table border=\"1\" class=\"dataframe\">\n",
       "  <thead>\n",
       "    <tr style=\"text-align: right;\">\n",
       "      <th></th>\n",
       "      <th>mean radius</th>\n",
       "      <th>mean texture</th>\n",
       "      <th>mean perimeter</th>\n",
       "      <th>mean area</th>\n",
       "      <th>mean smoothness</th>\n",
       "      <th>mean compactness</th>\n",
       "      <th>mean concavity</th>\n",
       "      <th>mean concave points</th>\n",
       "      <th>mean symmetry</th>\n",
       "      <th>mean fractal dimension</th>\n",
       "      <th>...</th>\n",
       "      <th>worst texture</th>\n",
       "      <th>worst perimeter</th>\n",
       "      <th>worst area</th>\n",
       "      <th>worst smoothness</th>\n",
       "      <th>worst compactness</th>\n",
       "      <th>worst concavity</th>\n",
       "      <th>worst concave points</th>\n",
       "      <th>worst symmetry</th>\n",
       "      <th>worst fractal dimension</th>\n",
       "      <th>target</th>\n",
       "    </tr>\n",
       "  </thead>\n",
       "  <tbody>\n",
       "    <tr>\n",
       "      <th>0</th>\n",
       "      <td>17.99</td>\n",
       "      <td>10.38</td>\n",
       "      <td>122.80</td>\n",
       "      <td>1001.0</td>\n",
       "      <td>0.11840</td>\n",
       "      <td>0.27760</td>\n",
       "      <td>0.3001</td>\n",
       "      <td>0.14710</td>\n",
       "      <td>0.2419</td>\n",
       "      <td>0.07871</td>\n",
       "      <td>...</td>\n",
       "      <td>17.33</td>\n",
       "      <td>184.60</td>\n",
       "      <td>2019.0</td>\n",
       "      <td>0.1622</td>\n",
       "      <td>0.6656</td>\n",
       "      <td>0.7119</td>\n",
       "      <td>0.2654</td>\n",
       "      <td>0.4601</td>\n",
       "      <td>0.11890</td>\n",
       "      <td>1</td>\n",
       "    </tr>\n",
       "    <tr>\n",
       "      <th>1</th>\n",
       "      <td>20.57</td>\n",
       "      <td>17.77</td>\n",
       "      <td>132.90</td>\n",
       "      <td>1326.0</td>\n",
       "      <td>0.08474</td>\n",
       "      <td>0.07864</td>\n",
       "      <td>0.0869</td>\n",
       "      <td>0.07017</td>\n",
       "      <td>0.1812</td>\n",
       "      <td>0.05667</td>\n",
       "      <td>...</td>\n",
       "      <td>23.41</td>\n",
       "      <td>158.80</td>\n",
       "      <td>1956.0</td>\n",
       "      <td>0.1238</td>\n",
       "      <td>0.1866</td>\n",
       "      <td>0.2416</td>\n",
       "      <td>0.1860</td>\n",
       "      <td>0.2750</td>\n",
       "      <td>0.08902</td>\n",
       "      <td>1</td>\n",
       "    </tr>\n",
       "    <tr>\n",
       "      <th>2</th>\n",
       "      <td>19.69</td>\n",
       "      <td>21.25</td>\n",
       "      <td>130.00</td>\n",
       "      <td>1203.0</td>\n",
       "      <td>0.10960</td>\n",
       "      <td>0.15990</td>\n",
       "      <td>0.1974</td>\n",
       "      <td>0.12790</td>\n",
       "      <td>0.2069</td>\n",
       "      <td>0.05999</td>\n",
       "      <td>...</td>\n",
       "      <td>25.53</td>\n",
       "      <td>152.50</td>\n",
       "      <td>1709.0</td>\n",
       "      <td>0.1444</td>\n",
       "      <td>0.4245</td>\n",
       "      <td>0.4504</td>\n",
       "      <td>0.2430</td>\n",
       "      <td>0.3613</td>\n",
       "      <td>0.08758</td>\n",
       "      <td>1</td>\n",
       "    </tr>\n",
       "    <tr>\n",
       "      <th>3</th>\n",
       "      <td>11.42</td>\n",
       "      <td>20.38</td>\n",
       "      <td>77.58</td>\n",
       "      <td>386.1</td>\n",
       "      <td>0.14250</td>\n",
       "      <td>0.28390</td>\n",
       "      <td>0.2414</td>\n",
       "      <td>0.10520</td>\n",
       "      <td>0.2597</td>\n",
       "      <td>0.09744</td>\n",
       "      <td>...</td>\n",
       "      <td>26.50</td>\n",
       "      <td>98.87</td>\n",
       "      <td>567.7</td>\n",
       "      <td>0.2098</td>\n",
       "      <td>0.8663</td>\n",
       "      <td>0.6869</td>\n",
       "      <td>0.2575</td>\n",
       "      <td>0.6638</td>\n",
       "      <td>0.17300</td>\n",
       "      <td>1</td>\n",
       "    </tr>\n",
       "    <tr>\n",
       "      <th>4</th>\n",
       "      <td>20.29</td>\n",
       "      <td>14.34</td>\n",
       "      <td>135.10</td>\n",
       "      <td>1297.0</td>\n",
       "      <td>0.10030</td>\n",
       "      <td>0.13280</td>\n",
       "      <td>0.1980</td>\n",
       "      <td>0.10430</td>\n",
       "      <td>0.1809</td>\n",
       "      <td>0.05883</td>\n",
       "      <td>...</td>\n",
       "      <td>16.67</td>\n",
       "      <td>152.20</td>\n",
       "      <td>1575.0</td>\n",
       "      <td>0.1374</td>\n",
       "      <td>0.2050</td>\n",
       "      <td>0.4000</td>\n",
       "      <td>0.1625</td>\n",
       "      <td>0.2364</td>\n",
       "      <td>0.07678</td>\n",
       "      <td>1</td>\n",
       "    </tr>\n",
       "  </tbody>\n",
       "</table>\n",
       "<p>5 rows × 31 columns</p>\n",
       "</div>"
      ],
      "text/plain": [
       "   mean radius  mean texture  mean perimeter  mean area  mean smoothness  \\\n",
       "0        17.99         10.38          122.80     1001.0          0.11840   \n",
       "1        20.57         17.77          132.90     1326.0          0.08474   \n",
       "2        19.69         21.25          130.00     1203.0          0.10960   \n",
       "3        11.42         20.38           77.58      386.1          0.14250   \n",
       "4        20.29         14.34          135.10     1297.0          0.10030   \n",
       "\n",
       "   mean compactness  mean concavity  mean concave points  mean symmetry  \\\n",
       "0           0.27760          0.3001              0.14710         0.2419   \n",
       "1           0.07864          0.0869              0.07017         0.1812   \n",
       "2           0.15990          0.1974              0.12790         0.2069   \n",
       "3           0.28390          0.2414              0.10520         0.2597   \n",
       "4           0.13280          0.1980              0.10430         0.1809   \n",
       "\n",
       "   mean fractal dimension  ...  worst texture  worst perimeter  worst area  \\\n",
       "0                 0.07871  ...          17.33           184.60      2019.0   \n",
       "1                 0.05667  ...          23.41           158.80      1956.0   \n",
       "2                 0.05999  ...          25.53           152.50      1709.0   \n",
       "3                 0.09744  ...          26.50            98.87       567.7   \n",
       "4                 0.05883  ...          16.67           152.20      1575.0   \n",
       "\n",
       "   worst smoothness  worst compactness  worst concavity  worst concave points  \\\n",
       "0            0.1622             0.6656           0.7119                0.2654   \n",
       "1            0.1238             0.1866           0.2416                0.1860   \n",
       "2            0.1444             0.4245           0.4504                0.2430   \n",
       "3            0.2098             0.8663           0.6869                0.2575   \n",
       "4            0.1374             0.2050           0.4000                0.1625   \n",
       "\n",
       "   worst symmetry  worst fractal dimension  target  \n",
       "0          0.4601                  0.11890       1  \n",
       "1          0.2750                  0.08902       1  \n",
       "2          0.3613                  0.08758       1  \n",
       "3          0.6638                  0.17300       1  \n",
       "4          0.2364                  0.07678       1  \n",
       "\n",
       "[5 rows x 31 columns]"
      ]
     },
     "execution_count": 76,
     "metadata": {},
     "output_type": "execute_result"
    }
   ],
   "source": [
    "df[:5]"
   ]
  },
  {
   "cell_type": "code",
   "execution_count": 77,
   "metadata": {},
   "outputs": [],
   "source": [
    "df3 = df_copy\n",
    "y = df3['target'].values\n",
    "df3 = df3.drop(['target'],axis=1)\n",
    "X = df3.values"
   ]
  },
  {
   "cell_type": "code",
   "execution_count": 78,
   "metadata": {},
   "outputs": [],
   "source": [
    "Xtrain, Xtest, ytrain, ytest = train_test_split(X, y, test_size=0.50, random_state=2)"
   ]
  },
  {
   "cell_type": "code",
   "execution_count": 79,
   "metadata": {},
   "outputs": [
    {
     "name": "stdout",
     "output_type": "stream",
     "text": [
      "Validation accuracy:  0.9473684210526315\n"
     ]
    }
   ],
   "source": [
    "radm = RandomForestClassifier(random_state=2).fit(Xtrain, ytrain)\n",
    "y_val_1 = radm.predict_proba(Xtest)\n",
    "print(\"Validation accuracy: \", sum(pd.DataFrame(y_val_1).idxmax(axis=1).values\n",
    "                                   == ytest)/len(ytest))"
   ]
  },
  {
   "cell_type": "code",
   "execution_count": 80,
   "metadata": {},
   "outputs": [
    {
     "name": "stdout",
     "output_type": "stream",
     "text": [
      "Validation accuracy:  0.9263157894736842\n"
     ]
    },
    {
     "name": "stderr",
     "output_type": "stream",
     "text": [
      "/home/rituraj/anaconda3/lib/python3.7/site-packages/sklearn/linear_model/_logistic.py:940: ConvergenceWarning: lbfgs failed to converge (status=1):\n",
      "STOP: TOTAL NO. of ITERATIONS REACHED LIMIT.\n",
      "\n",
      "Increase the number of iterations (max_iter) or scale the data as shown in:\n",
      "    https://scikit-learn.org/stable/modules/preprocessing.html\n",
      "Please also refer to the documentation for alternative solver options:\n",
      "    https://scikit-learn.org/stable/modules/linear_model.html#logistic-regression\n",
      "  extra_warning_msg=_LOGISTIC_SOLVER_CONVERGENCE_MSG)\n"
     ]
    }
   ],
   "source": [
    "log_reg = LogisticRegression().fit(Xtrain, ytrain)\n",
    "y_val_2 = log_reg.predict_proba(Xtest)\n",
    "print(\"Validation accuracy: \", sum(pd.DataFrame(y_val_2).idxmax(axis=1).values\n",
    "                                   == ytest)/len(ytest))"
   ]
  },
  {
   "cell_type": "code",
   "execution_count": 81,
   "metadata": {},
   "outputs": [
    {
     "name": "stdout",
     "output_type": "stream",
     "text": [
      "              precision    recall  f1-score   support\n",
      "\n",
      "           0       0.93      0.95      0.94       175\n",
      "           1       0.92      0.88      0.90       110\n",
      "\n",
      "    accuracy                           0.93       285\n",
      "   macro avg       0.93      0.92      0.92       285\n",
      "weighted avg       0.93      0.93      0.93       285\n",
      "\n"
     ]
    }
   ],
   "source": [
    "all_predictions = log_reg.predict(Xtest)\n",
    "print(classification_report(ytest, all_predictions))"
   ]
  },
  {
   "cell_type": "code",
   "execution_count": 82,
   "metadata": {},
   "outputs": [
    {
     "data": {
      "text/plain": [
       "Text(0.5, 1, 'Training Set Confusion Matrix')"
      ]
     },
     "execution_count": 82,
     "metadata": {},
     "output_type": "execute_result"
    },
    {
     "data": {
      "image/png": "[encoded data removed]",
      "text/plain": [
       "<Figure size 252x180 with 2 Axes>"
      ]
     },
     "metadata": {
      "needs_background": "light"
     },
     "output_type": "display_data"
    }
   ],
   "source": [
    "fig, ax = plt.subplots(figsize=(3.5,2.5))\n",
    "sns.heatmap(confusion_matrix(ytest, all_predictions), annot=True, linewidths=.5, ax=ax, fmt=\"d\").set(xlabel='Predicted Value', ylabel='Expected Value')\n",
    "plt.title('Training Set Confusion Matrix')"
   ]
  },
  {
   "cell_type": "code",
   "execution_count": 83,
   "metadata": {},
   "outputs": [
    {
     "name": "stdout",
     "output_type": "stream",
     "text": [
      "Feature ranking (top 10):\n",
      "1. feature 20 worst radius (0.173742)\n",
      "2. feature 23 worst area (0.121224)\n",
      "3. feature 27 worst concave points (0.111620)\n",
      "4. feature 7 mean concave points (0.100377)\n",
      "5. feature 22 worst perimeter (0.075150)\n",
      "6. feature 13 area error (0.057373)\n",
      "7. feature 3 mean area (0.056657)\n",
      "8. feature 0 mean radius (0.048019)\n",
      "9. feature 6 mean concavity (0.036336)\n",
      "10. feature 2 mean perimeter (0.032751)\n"
     ]
    }
   ],
   "source": [
    "indices = np.argsort(radm.feature_importances_)[::-1]\n",
    "\n",
    "# Print the feature ranking\n",
    "print('Feature ranking (top 10):')\n",
    "\n",
    "for f in range(10):\n",
    "    print('%d. feature %d %s (%f)' % (f+1, indices[f], df3.columns[indices[f]],\n",
    "                                      radm.feature_importances_[indices[f]]))"
   ]
  },
  {
   "cell_type": "code",
   "execution_count": null,
   "metadata": {},
   "outputs": [],
   "source": []
  },
  {
   "cell_type": "code",
   "execution_count": null,
   "metadata": {},
   "outputs": [],
   "source": []
  },
  {
   "cell_type": "code",
   "execution_count": null,
   "metadata": {},
   "outputs": [],
   "source": []
  },
  {
   "cell_type": "code",
   "execution_count": null,
   "metadata": {},
   "outputs": [],
   "source": []
  },
  {
   "cell_type": "code",
   "execution_count": null,
   "metadata": {},
   "outputs": [],
   "source": []
  },
  {
   "cell_type": "code",
   "execution_count": null,
   "metadata": {},
   "outputs": [],
   "source": []
  },
  {
   "cell_type": "code",
   "execution_count": null,
   "metadata": {},
   "outputs": [],
   "source": []
  },
  {
   "cell_type": "code",
   "execution_count": null,
   "metadata": {},
   "outputs": [],
   "source": []
  },
  {
   "cell_type": "code",
   "execution_count": null,
   "metadata": {},
   "outputs": [],
   "source": []
  },
  {
   "cell_type": "code",
   "execution_count": null,
   "metadata": {},
   "outputs": [],
   "source": []
  },
  {
   "cell_type": "code",
   "execution_count": null,
   "metadata": {},
   "outputs": [],
   "source": []
  },
  {
   "cell_type": "code",
   "execution_count": null,
   "metadata": {},
   "outputs": [],
   "source": []
  }
 ],
 "metadata": {
  "kernelspec": {
   "display_name": "Python 3",
   "language": "python",
   "name": "python3"
  },
  "language_info": {
   "codemirror_mode": {
    "name": "ipython",
    "version": 3
   },
   "file_extension": ".py",
   "mimetype": "text/x-python",
   "name": "python",
   "nbconvert_exporter": "python",
   "pygments_lexer": "ipython3",
   "version": "3.7.7"
  }
 },
 "nbformat": 4,
 "nbformat_minor": 4
}
